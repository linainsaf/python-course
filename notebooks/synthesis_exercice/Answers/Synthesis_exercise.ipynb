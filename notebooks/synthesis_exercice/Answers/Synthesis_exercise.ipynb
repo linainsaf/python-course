{
 "cells": [
  {
   "cell_type": "markdown",
   "id": "38ebd232",
   "metadata": {},
   "source": [
    "## Exercise: Managing a Bookstore Inventory\n",
    "In this exercise, you will be creating a program to manage a bookstore's inventory. The program should allow the user to\n",
    "\n",
    "- Add, edit, and remove books from the inventory\n",
    "- Display a report list of all the books in the inventory.\n",
    "- Make searches in the inventory using the books's attributes\n",
    "- Read, Save and manage the Inventory Data on a CSV file\n",
    "\n",
    "### Step 1: Creating the inventory\n",
    "\n",
    "- Create a Book class that has the following attributes: title, author, publisher, publication date, and ISBN-10 number.\n",
    "- Write the special methode __repr__() in the Book class\n",
    "- Create a BookstoreInventory class that has a list of Book objects as its attribute.\n",
    "- Write a method in the BookstoreInventory class to add a new Book to the inventory.\n",
    "- Write a method in the BookstoreInventory class to edit an existing Book in the inventory.\n",
    "- Write a method in the BookstoreInventory class to remove a Book from the inventory.\n",
    "\n",
    "### Step 2: Adding Display and Search features\n",
    "\n",
    "- Write a method in the BookstoreInventory class to search for a Book in the inventory by its title.\n",
    "- Write a method in the BookstoreInventory class to search for a Book in the inventory by its author.\n",
    "- Write a method in the BookstoreInventory class to search for a Book in the inventory by its ISBN-10 number.\n",
    "---- Write a method in the BookstoreInventory class to display a report of the inventory data on the console, including the total number of books, the number of books by each author, and the number of books published by each publisher.\n",
    "\n",
    "### Step 3: File Input/Output Operations\n",
    "\n",
    "- Write a method in the BookstoreInventory class to read the inventory data from a CSV file.\n",
    "- Write a method in the BookstoreInventory class to write the inventory data to a CSV file.\n",
    "- Write a method in the BookstoreInventory class to append a new Book to the inventory CSV file.\n",
    "---- Write a method in the BookstoreInventory class to remove a Book from the inventory CSV file.\n",
    "- Write a method in the BookstoreInventory class to display the inventory data on the console. display_inventory()\n",
    "\n",
    "### Step 4: Testing out Bookstore Inventory\n",
    "\n",
    "- Create an object BookstoreInventory and read the inventory data from the file \"data.csv\"\n",
    "- Display the inventory data on the console using your methode display_inventory()\n",
    "- Create an object Book(\"The Lord of the Rings\",\"J.R.R. Tolkien\",\"George Allen & Unwin\",\"July 29 1954\", \"9780618640157\")and add it to the inventory. Then display the inventory data again\n",
    "- Edit the book with the isbn number \"9780316769174\" by changing its title to \"The Catcher\". Then display the inventory data again\n",
    "- Remove the book with isbn number \"9780743273565\" from the inventory. Then display the inventory data again\n",
    "- Search a book by title, author or isbn number\n",
    "- Write your updated to data of the inventory into a new csv file (\"data_updated.csv\")\n",
    "- Create an object Book(\"Harry Potter and the Philosopher's Stone\",\"J.K. Rowling\",\"Bloomsbury\",\"June 26 1997\",\"9780747532743\") and append it to the new csv file\n",
    "- Remove from your csv file the book with the isbn number \"9780747532743\"\n"
   ]
  },
  {
   "cell_type": "code",
   "execution_count": 18,
   "id": "3e764b4d",
   "metadata": {},
   "outputs": [],
   "source": [
    "import csv\n",
    "\n",
    "class Book:\n",
    "    def __init__(self, title, author, publisher, pub_date, isbn):\n",
    "        self.title = title\n",
    "        self.author = author\n",
    "        self.publisher = publisher\n",
    "        self.pub_date = pub_date\n",
    "        self.isbn = isbn\n",
    "    def __repr__(self):\n",
    "        return f\"{self.title}, {self.author}, {self.publisher},{self.pub_date}, {self.isbn}\"\n",
    "    \n",
    "class  BookstoreInventory:\n",
    "    def  __init__(self):\n",
    "        self.books = []\n",
    "        \n",
    "    def add_book(self,book):\n",
    "        self.books.append(book)\n",
    "        return True\n",
    "    \n",
    "    def edit_book(self,isbn, title=None, author=None, publisher=None, pub_date=None):\n",
    "        for b in self.books:\n",
    "            if b.isbn == isbn :\n",
    "                if title :\n",
    "                    b.title = title\n",
    "                if author :\n",
    "                    b.author = author\n",
    "                if publisher :\n",
    "                    b.publisher = publisher\n",
    "                if pub_date :\n",
    "                    b.pub_date = pub_date\n",
    "                return True\n",
    "        return False\n",
    "    \n",
    "    def remove_book(self, isbn):\n",
    "        for b in self.books:\n",
    "            if b.isbn == isbn :\n",
    "                self.books.remove(b)\n",
    "                return True\n",
    "        return False\n",
    "    \n",
    "    def search_by_title(self, title):\n",
    "        results = []\n",
    "        for b in self.books:\n",
    "            if title.lower() in b.title.lower():\n",
    "                results.append(b)\n",
    "        return results\n",
    "    def search_by_author(self, author):\n",
    "        results = []\n",
    "        for b in self.books:\n",
    "            if author.lower() in b.author.lower():\n",
    "                results.append(b)\n",
    "        return results\n",
    "    def search_by_isbn(self, isbn):\n",
    "        results = []\n",
    "        for b in self.books:\n",
    "            if isbn.lower() in b.isbn.lower():\n",
    "                results.append(b)\n",
    "        return results\n",
    "    def read_from_csv(self, filename):\n",
    "        with open(filename, 'r') as csv_file:\n",
    "            csv_reader = csv.reader(csv_file)\n",
    "            # Loop over each row in the CSV file\n",
    "            for row in csv_reader:\n",
    "                title, author, publisher,pub_date, isbn = row\n",
    "                self.books.append(Book(title, author, publisher,pub_date, isbn))\n",
    "            return True\n",
    "    def write_on_csv(self, filename):\n",
    "        with open(filename, 'w', newline='') as csv_file:\n",
    "            csv_writer = csv.writer(csv_file)\n",
    "            for b in self.books:\n",
    "                csv_writer.writerow([b.title,b.author, b.publisher, b.pub_date, b.isbn])\n",
    "        return True\n",
    "    \n",
    "    def append_to_csv(self,filename,book):\n",
    "        with open(filename, 'a', newline='') as csv_file:\n",
    "            csv_writer = csv.writer(csv_file)\n",
    "            # Append rows to the CSV file\n",
    "            csv_writer.writerow([book.title, book.author, book.publisher, book.pub_date, book.isbn])\n",
    "        return True\n",
    "    def display_inventory(self):\n",
    "        for b in self.books:\n",
    "            print(b.title,b.author, b.publisher, b.pub_date, b.isbn)\n",
    "            print(\"_____________________________________________________________________________________\")"
   ]
  },
  {
   "cell_type": "code",
   "execution_count": 2,
   "id": "61f6f1fa",
   "metadata": {},
   "outputs": [
    {
     "data": {
      "text/plain": [
       "True"
      ]
     },
     "execution_count": 2,
     "metadata": {},
     "output_type": "execute_result"
    }
   ],
   "source": [
    "bi = BookstoreInventory()\n",
    "bi.read_from_csv(\"data.csv\")"
   ]
  },
  {
   "cell_type": "code",
   "execution_count": 3,
   "id": "99e67034",
   "metadata": {},
   "outputs": [
    {
     "name": "stdout",
     "output_type": "stream",
     "text": [
      "To Kill a Mockingbird Harper Lee Grand Central Publishing July 11 1960 9780446310789\n",
      "_____________________________________________________________________________________\n",
      "1984 George Orwell Signet Classic June 1 1961 9780451524935\n",
      "_____________________________________________________________________________________\n",
      "The Great Gatsby F. Scott Fitzgerald Scribner  April 10 1925 9780743273565\n",
      "_____________________________________________________________________________________\n",
      "Pride and Prejudice Jane Austen Penguin Classics January 28 1813 9780141439518\n",
      "_____________________________________________________________________________________\n",
      "The Catcher in the Rye J.D. Salinger Little Brown and Company July 16 1951 9780316769174\n",
      "_____________________________________________________________________________________\n"
     ]
    }
   ],
   "source": [
    "bi.display_inventory()"
   ]
  },
  {
   "cell_type": "code",
   "execution_count": 4,
   "id": "97771dcd",
   "metadata": {},
   "outputs": [
    {
     "data": {
      "text/plain": [
       "True"
      ]
     },
     "execution_count": 4,
     "metadata": {},
     "output_type": "execute_result"
    }
   ],
   "source": [
    "b = Book(\"The Lord of the Rings\",\"J.R.R. Tolkien\",\"George Allen & Unwin\",\"July 29 1954\", \"9780618640157\")\n",
    "bi.add_book(b)"
   ]
  },
  {
   "cell_type": "code",
   "execution_count": 5,
   "id": "2afa80f2",
   "metadata": {},
   "outputs": [
    {
     "name": "stdout",
     "output_type": "stream",
     "text": [
      "To Kill a Mockingbird Harper Lee Grand Central Publishing July 11 1960 9780446310789\n",
      "_____________________________________________________________________________________\n",
      "1984 George Orwell Signet Classic June 1 1961 9780451524935\n",
      "_____________________________________________________________________________________\n",
      "The Great Gatsby F. Scott Fitzgerald Scribner  April 10 1925 9780743273565\n",
      "_____________________________________________________________________________________\n",
      "Pride and Prejudice Jane Austen Penguin Classics January 28 1813 9780141439518\n",
      "_____________________________________________________________________________________\n",
      "The Catcher in the Rye J.D. Salinger Little Brown and Company July 16 1951 9780316769174\n",
      "_____________________________________________________________________________________\n",
      "The Lord of the Rings J.R.R. Tolkien George Allen & Unwin July 29 1954 9780618640157\n",
      "_____________________________________________________________________________________\n"
     ]
    }
   ],
   "source": [
    "bi.display_inventory()"
   ]
  },
  {
   "cell_type": "code",
   "execution_count": 6,
   "id": "80f4102f",
   "metadata": {},
   "outputs": [
    {
     "data": {
      "text/plain": [
       "True"
      ]
     },
     "execution_count": 6,
     "metadata": {},
     "output_type": "execute_result"
    }
   ],
   "source": [
    "bi.edit_book(isbn =\"9780316769174\",title = \"The Catcher\")"
   ]
  },
  {
   "cell_type": "code",
   "execution_count": 7,
   "id": "2a214774",
   "metadata": {},
   "outputs": [
    {
     "name": "stdout",
     "output_type": "stream",
     "text": [
      "To Kill a Mockingbird Harper Lee Grand Central Publishing July 11 1960 9780446310789\n",
      "_____________________________________________________________________________________\n",
      "1984 George Orwell Signet Classic June 1 1961 9780451524935\n",
      "_____________________________________________________________________________________\n",
      "The Great Gatsby F. Scott Fitzgerald Scribner  April 10 1925 9780743273565\n",
      "_____________________________________________________________________________________\n",
      "Pride and Prejudice Jane Austen Penguin Classics January 28 1813 9780141439518\n",
      "_____________________________________________________________________________________\n",
      "The Catcher J.D. Salinger Little Brown and Company July 16 1951 9780316769174\n",
      "_____________________________________________________________________________________\n",
      "The Lord of the Rings J.R.R. Tolkien George Allen & Unwin July 29 1954 9780618640157\n",
      "_____________________________________________________________________________________\n"
     ]
    }
   ],
   "source": [
    "bi.display_inventory()"
   ]
  },
  {
   "cell_type": "code",
   "execution_count": 8,
   "id": "e8cd9ce1",
   "metadata": {},
   "outputs": [
    {
     "data": {
      "text/plain": [
       "True"
      ]
     },
     "execution_count": 8,
     "metadata": {},
     "output_type": "execute_result"
    }
   ],
   "source": [
    "bi.remove_book(isbn=\"9780743273565\")"
   ]
  },
  {
   "cell_type": "code",
   "execution_count": 9,
   "id": "b1e7b771",
   "metadata": {},
   "outputs": [
    {
     "name": "stdout",
     "output_type": "stream",
     "text": [
      "To Kill a Mockingbird Harper Lee Grand Central Publishing July 11 1960 9780446310789\n",
      "_____________________________________________________________________________________\n",
      "1984 George Orwell Signet Classic June 1 1961 9780451524935\n",
      "_____________________________________________________________________________________\n",
      "Pride and Prejudice Jane Austen Penguin Classics January 28 1813 9780141439518\n",
      "_____________________________________________________________________________________\n",
      "The Catcher J.D. Salinger Little Brown and Company July 16 1951 9780316769174\n",
      "_____________________________________________________________________________________\n",
      "The Lord of the Rings J.R.R. Tolkien George Allen & Unwin July 29 1954 9780618640157\n",
      "_____________________________________________________________________________________\n"
     ]
    }
   ],
   "source": [
    "bi.display_inventory()"
   ]
  },
  {
   "cell_type": "code",
   "execution_count": 11,
   "id": "9701b678",
   "metadata": {},
   "outputs": [
    {
     "data": {
      "text/plain": [
       "[The Catcher, J.D. Salinger, Little Brown and Company,July 16 1951, 9780316769174]"
      ]
     },
     "execution_count": 11,
     "metadata": {},
     "output_type": "execute_result"
    }
   ],
   "source": [
    "bi.search_by_title(\"The Catcher\")"
   ]
  },
  {
   "cell_type": "code",
   "execution_count": 12,
   "id": "360b58e5",
   "metadata": {},
   "outputs": [
    {
     "data": {
      "text/plain": [
       "[1984, George Orwell, Signet Classic,June 1 1961, 9780451524935]"
      ]
     },
     "execution_count": 12,
     "metadata": {},
     "output_type": "execute_result"
    }
   ],
   "source": [
    "bi.search_by_author(\"George\")"
   ]
  },
  {
   "cell_type": "code",
   "execution_count": 15,
   "id": "f4fb4265",
   "metadata": {},
   "outputs": [
    {
     "data": {
      "text/plain": [
       "[1984, George Orwell, Signet Classic,June 1 1961, 9780451524935]"
      ]
     },
     "execution_count": 15,
     "metadata": {},
     "output_type": "execute_result"
    }
   ],
   "source": [
    "bi.search_by_isbn(\"978045\")"
   ]
  },
  {
   "cell_type": "code",
   "execution_count": 16,
   "id": "625a64b6",
   "metadata": {},
   "outputs": [
    {
     "data": {
      "text/plain": [
       "True"
      ]
     },
     "execution_count": 16,
     "metadata": {},
     "output_type": "execute_result"
    }
   ],
   "source": [
    "bi.write_on_csv(\"data_updated.csv\")"
   ]
  },
  {
   "cell_type": "code",
   "execution_count": 17,
   "id": "937a4f3a",
   "metadata": {},
   "outputs": [
    {
     "data": {
      "text/plain": [
       "True"
      ]
     },
     "execution_count": 17,
     "metadata": {},
     "output_type": "execute_result"
    }
   ],
   "source": [
    "b2 = Book(\"Harry Potter and the Philosopher's Stone\",\"J.K. Rowling\",\"Bloomsbury\",\"June 26 1997\",\"9780747532743\")\n",
    "bi.append_to_csv(\"data_updated.csv\",b2)"
   ]
  },
  {
   "cell_type": "code",
   "execution_count": null,
   "id": "7ac6f6d2",
   "metadata": {},
   "outputs": [],
   "source": []
  }
 ],
 "metadata": {
  "kernelspec": {
   "display_name": "firstEnv",
   "language": "python",
   "name": "firstenv"
  },
  "language_info": {
   "codemirror_mode": {
    "name": "ipython",
    "version": 3
   },
   "file_extension": ".py",
   "mimetype": "text/x-python",
   "name": "python",
   "nbconvert_exporter": "python",
   "pygments_lexer": "ipython3",
   "version": "3.9.12"
  }
 },
 "nbformat": 4,
 "nbformat_minor": 5
}
