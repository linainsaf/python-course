{
 "cells": [
  {
   "cell_type": "markdown",
   "metadata": {
    "id": "FQzzD6Gu3Z7Z"
   },
   "source": [
    "## Exercise: Managing a Bookstore Inventory\n",
    "\n",
    "In this exercise, you will be creating a program to manage a bookstore's inventory. The program should allow the user to \n",
    "- Add, edit, and remove books from the inventory\n",
    "- Display a report list of all the books in the inventory.\n",
    "- Make searches in the inventory using the books's attributes\n",
    "- Read, Save and manage the Inventory Data on a CSV file"
   ]
  },
  {
   "cell_type": "markdown",
   "metadata": {
    "id": "zYwhHy3U5Gbi"
   },
   "source": [
    "### Step 1: Creating the inventory\n",
    "- Create a Book class that has the following attributes: title, author, publisher, publication date, and ISBN-10 number.\n",
    "- Create a BookstoreInventory class that has a list of Book objects as its attribute.\n",
    "- Write a method in the BookstoreInventory class to add a new Book to the inventory.\n",
    "- Write a method in the BookstoreInventory class to edit an existing Book in the inventory.\n",
    "- Write a method in the BookstoreInventory class to remove a Book from the inventory."
   ]
  },
  {
   "cell_type": "markdown",
   "metadata": {
    "id": "ICMXL4Zj5yOZ"
   },
   "source": [
    "### Step 2: Adding Display and Search features\n",
    "- Write a method in the BookstoreInventory class to search for a Book in the inventory by its title.\n",
    "- Write a method in the BookstoreInventory class to search for a Book in the inventory by its author.\n",
    "- Write a method in the BookstoreInventory class to search for a Book in the inventory by its ISBN-10 number.\n",
    "- Write a method in the BookstoreInventory class to display a report of the inventory data on the console, including the total number of books, the number of books by each author, and the number of books published by each publisher."
   ]
  },
  {
   "cell_type": "markdown",
   "metadata": {
    "id": "mz9B_Onv5pc-"
   },
   "source": [
    "### Step 3: File Input/Output Operations\n",
    "- Write a method in the BookstoreInventory class to read the inventory data from a CSV file.\n",
    "- Write a method in the BookstoreInventory class to write the inventory data to a CSV file.\n",
    "- Write a method in the BookstoreInventory class to append a new Book to the inventory CSV file.\n",
    "- Write a method in the BookstoreInventory class to remove a Book from the inventory CSV file.\n",
    "- Write a method in the BookstoreInventory class to display the inventory data on the console."
   ]
  },
  {
   "cell_type": "code",
   "execution_count": 16,
   "metadata": {
    "id": "hxH4Tew15zEh"
   },
   "outputs": [],
   "source": [
    "import csv\n",
    "import random\n",
    "from datetime import datetime\n",
    "\n",
    "class Book:\n",
    "    def __init__(self, title, author, publisher, pub_date, isbn):\n",
    "        self.title = title\n",
    "        self.author = author\n",
    "        self.publisher = publisher\n",
    "        self.pub_date = pub_date\n",
    "        self.isbn = isbn\n",
    "\n",
    "class BookstoreInventory:\n",
    "    def __init__(self):\n",
    "        self.books = []\n",
    "\n",
    "    def add_book(self, book):\n",
    "        self.books.append(book)\n",
    "\n",
    "    def edit_book(self, isbn, title=None, author=None, publisher=None, pub_date=None):\n",
    "        for book in self.books:\n",
    "            if book.isbn == isbn:\n",
    "                if title:\n",
    "                    book.title = title\n",
    "                if author:\n",
    "                    book.author = author\n",
    "                if publisher:\n",
    "                    book.publisher = publisher\n",
    "                if pub_date:\n",
    "                    book.pub_date = pub_date\n",
    "                return True\n",
    "        return False\n",
    "\n",
    "    def remove_book(self, isbn):\n",
    "        for book in self.books:\n",
    "            if book.isbn == isbn:\n",
    "                self.books.remove(book)\n",
    "                return True\n",
    "        return False    \n",
    "    def search_book_by_title(self, title):\n",
    "        result = []\n",
    "        for book in self.books:\n",
    "            if title.lower() in book.title.lower():\n",
    "                result.append(book)\n",
    "        return result\n",
    "\n",
    "    def search_book_by_author(self, author):\n",
    "        result = []\n",
    "        for book in self.books:\n",
    "            if book.author.lower() == author.lower():\n",
    "                result.append(book)\n",
    "        return result\n",
    "\n",
    "    def search_book_by_isbn(self, isbn):\n",
    "        for book in self.books:\n",
    "            if book.isbn == isbn:\n",
    "                return book\n",
    "        return None\n",
    "\n",
    "    def display_inventory(self):\n",
    "        for book in self.books:\n",
    "            print(f\"{book.title}, by {book.author}, published by {book.publisher} on {book.pub_date}, ISBN: {book.isbn}\")\n",
    "            print(\"______________________________________________________________________________________________________\")\n",
    "            \n",
    "    def read_from_csv(self, filename):\n",
    "        with open(filename, 'r') as file:\n",
    "            reader = csv.reader(file)\n",
    "            for row in reader:\n",
    "                title, author, publisher, pub_date, isbn = row\n",
    "                self.add_book(Book(title, author, publisher, pub_date, isbn))\n",
    "\n",
    "    def write_to_csv(self, filename):\n",
    "        with open(filename, 'w', newline='') as file:\n",
    "            writer = csv.writer(file)\n",
    "            for book in self.books:\n",
    "                writer.writerow([book.title, book.author, book.publisher, book.pub_date, book.isbn])\n",
    "\n",
    "    def append_to_csv(self, filename, book):\n",
    "        with open(filename, 'a', newline='') as file:\n",
    "            writer = csv.writer(file)\n",
    "            writer.writerow([book.title, book.author, book.publisher, book.pub_date, book.isbn])\n",
    "\n",
    "    def remove_from_csv(self, filename, isbn):\n",
    "        with open(filename, 'r') as file:\n",
    "            reader = csv.reader(file)\n",
    "            rows = [row for row in reader if row[4] != isbn]\n",
    "        with open(filename, 'w', newline='') as file:\n",
    "            writer = csv.writer(file)\n",
    "            writer.writerows(rows)"
   ]
  },
  {
   "cell_type": "code",
   "execution_count": 17,
   "metadata": {
    "id": "ilfJQkJd6EEg"
   },
   "outputs": [],
   "source": [
    "bsi = BookstoreInventory()\n",
    "bsi.read_from_csv(\"data.csv\")"
   ]
  },
  {
   "cell_type": "code",
   "execution_count": 21,
   "metadata": {},
   "outputs": [
    {
     "name": "stdout",
     "output_type": "stream",
     "text": [
      "To Kill a Mockingbird, by Harper Lee, published by Grand Central Publishing on July 11 1960, ISBN: 9780446310789\n",
      "______________________________________________________________________________________________________\n",
      "1984, by George Orwell, published by Signet Classic on June 1 1961, ISBN: 9780451524935\n",
      "______________________________________________________________________________________________________\n",
      "The Great Gatsby, by F. Scott Fitzgerald, published by Scribner on  April 10 1925, ISBN: 9780743273565\n",
      "______________________________________________________________________________________________________\n",
      "Pride and Prejudice, by Jane Austen, published by Penguin Classics on January 28 1813, ISBN: 9780141439518\n",
      "______________________________________________________________________________________________________\n",
      "The Catcher in the Rye, by J.D. Salinger, published by Little Brown and Company on July 16 1951, ISBN: 9780316769174\n",
      "______________________________________________________________________________________________________\n"
     ]
    }
   ],
   "source": [
    "bsi.display_inventory()"
   ]
  },
  {
   "cell_type": "code",
   "execution_count": 23,
   "metadata": {},
   "outputs": [
    {
     "data": {
      "text/plain": [
       "[]"
      ]
     },
     "execution_count": 23,
     "metadata": {},
     "output_type": "execute_result"
    }
   ],
   "source": [
    "bsi.search_book_by_title(\"19\")"
   ]
  },
  {
   "cell_type": "code",
   "execution_count": null,
   "metadata": {},
   "outputs": [],
   "source": []
  }
 ],
 "metadata": {
  "colab": {
   "provenance": []
  },
  "kernelspec": {
   "display_name": "Python 3 (ipykernel)",
   "language": "python",
   "name": "python3"
  },
  "language_info": {
   "codemirror_mode": {
    "name": "ipython",
    "version": 3
   },
   "file_extension": ".py",
   "mimetype": "text/x-python",
   "name": "python",
   "nbconvert_exporter": "python",
   "pygments_lexer": "ipython3",
   "version": "3.10.7"
  }
 },
 "nbformat": 4,
 "nbformat_minor": 1
}
