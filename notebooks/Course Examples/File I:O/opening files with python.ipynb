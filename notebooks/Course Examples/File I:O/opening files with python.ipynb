{
 "cells": [
  {
   "cell_type": "code",
   "execution_count": 1,
   "id": "775f6213",
   "metadata": {},
   "outputs": [
    {
     "name": "stdout",
     "output_type": "stream",
     "text": [
      "hello everyone how are you doing\n",
      "Im doing very well this weekend \n",
      "thank you :) \n"
     ]
    }
   ],
   "source": [
    "file = open(\"example.txt\", \"r\")\n",
    "contents = file.read()\n",
    "print(contents)\n",
    "file.close()"
   ]
  },
  {
   "cell_type": "code",
   "execution_count": 2,
   "id": "aa6c284a",
   "metadata": {},
   "outputs": [
    {
     "name": "stdout",
     "output_type": "stream",
     "text": [
      "hello everyone how are you doing\n",
      "\n"
     ]
    }
   ],
   "source": [
    "file = open(\"example.txt\", \"r\")\n",
    "first_line = file.readline()\n",
    "print(first_line)\n",
    "file.close()"
   ]
  },
  {
   "cell_type": "code",
   "execution_count": 3,
   "id": "e6e43e61",
   "metadata": {},
   "outputs": [
    {
     "name": "stdout",
     "output_type": "stream",
     "text": [
      "['hello everyone how are you doing\\n', 'Im doing very well this weekend \\n', 'thank you :) ']\n"
     ]
    }
   ],
   "source": [
    "file = open(\"example.txt\", \"r\")\n",
    "lines = file.readlines()\n",
    "print(lines)\n",
    "file.close()"
   ]
  },
  {
   "cell_type": "code",
   "execution_count": 5,
   "id": "989549d5",
   "metadata": {},
   "outputs": [],
   "source": [
    "file = open(\"example2.txt\", \"w\")\n",
    "file.write(\"Hello, World!\")\n",
    "file.close()"
   ]
  },
  {
   "cell_type": "code",
   "execution_count": 7,
   "id": "dfa4547c",
   "metadata": {},
   "outputs": [],
   "source": [
    "file = open(\"example2.txt\", \"a\")\n",
    "file.write(\"\\nHow are you today\")\n",
    "file.close()"
   ]
  },
  {
   "cell_type": "code",
   "execution_count": 8,
   "id": "74399a69",
   "metadata": {},
   "outputs": [
    {
     "name": "stdout",
     "output_type": "stream",
     "text": [
      "hello everyone how are you doing\n",
      "Im doing very well this weekend \n",
      "thank you :) \n"
     ]
    }
   ],
   "source": [
    "with open(\"example.txt\", \"r\") as file:\n",
    "    contents = file.read()\n",
    "    print(contents)"
   ]
  },
  {
   "cell_type": "code",
   "execution_count": 9,
   "id": "715c48ca",
   "metadata": {},
   "outputs": [],
   "source": [
    "import csv\n"
   ]
  },
  {
   "cell_type": "code",
   "execution_count": 10,
   "id": "939ab8cc",
   "metadata": {},
   "outputs": [
    {
     "name": "stdout",
     "output_type": "stream",
     "text": [
      "['To Kill a Mockingbird', 'Harper Lee', 'Grand Central Publishing', 'July 11 1960', '9780446310789']\n",
      "['1984', 'George Orwell', 'Signet Classic', 'June 1 1961', '9780451524935']\n",
      "['The Great Gatsby', 'F. Scott Fitzgerald', 'Scribner', ' April 10 1925', '9780743273565']\n",
      "['Pride and Prejudice', 'Jane Austen', 'Penguin Classics', 'January 28 1813', '9780141439518']\n",
      "['The Catcher in the Rye', 'J.D. Salinger', 'Little Brown and Company', 'July 16 1951', '9780316769174']\n"
     ]
    }
   ],
   "source": [
    "with open('data.csv', 'r') as csv_file:\n",
    "    csv_reader = csv.reader(csv_file)\n",
    "\n",
    "    # Loop over each row in the CSV file\n",
    "    for row in csv_reader:\n",
    "        # Access the values of each row\n",
    "        print(row)"
   ]
  },
  {
   "cell_type": "code",
   "execution_count": 11,
   "id": "7108d628",
   "metadata": {},
   "outputs": [],
   "source": [
    "with open('data2.csv', 'w', newline='') as csv_file:\n",
    "    csv_writer = csv.writer(csv_file)\n",
    "\n",
    "    # Write rows to the CSV file\n",
    "    csv_writer.writerow(['Title', 'Author', 'Publisher'])\n",
    "    csv_writer.writerow(['To Kill a Mockingbird', 'Harper Lee', 'Grand Central Publishing'])"
   ]
  },
  {
   "cell_type": "code",
   "execution_count": 12,
   "id": "9469d3f3",
   "metadata": {},
   "outputs": [],
   "source": [
    "import csv\n",
    "\n",
    "with open('data2.csv', 'a', newline='') as csv_file:\n",
    "    csv_writer = csv.writer(csv_file)\n",
    "\n",
    "    # Append rows to the CSV file\n",
    "    csv_writer.writerow(['1984', 'George Orwell', 'Signet Classic'])"
   ]
  },
  {
   "cell_type": "code",
   "execution_count": 14,
   "id": "587c2db1",
   "metadata": {},
   "outputs": [],
   "source": [
    "import csv\n",
    "\n",
    "# Read in the CSV file and filter out the rows that match a specific criteria\n",
    "with open('data2.csv', 'r') as csv_file:\n",
    "    csv_reader = csv.reader(csv_file)\n",
    "\n",
    "    filtered_rows = []\n",
    "    for row in csv_reader:\n",
    "        if row[0] != '1984':\n",
    "            filtered_rows.append(row)\n",
    "\n",
    "# Write the filtered rows back to the CSV file\n",
    "with open('data2.csv', 'w', newline='') as csv_file:\n",
    "    csv_writer = csv.writer(csv_file)\n",
    "\n",
    "    for row in filtered_rows:\n",
    "        csv_writer.writerow(row)"
   ]
  },
  {
   "cell_type": "code",
   "execution_count": null,
   "id": "15f19ea6",
   "metadata": {},
   "outputs": [],
   "source": []
  }
 ],
 "metadata": {
  "kernelspec": {
   "display_name": "firstEnv",
   "language": "python",
   "name": "firstenv"
  },
  "language_info": {
   "codemirror_mode": {
    "name": "ipython",
    "version": 3
   },
   "file_extension": ".py",
   "mimetype": "text/x-python",
   "name": "python",
   "nbconvert_exporter": "python",
   "pygments_lexer": "ipython3",
   "version": "3.9.12"
  }
 },
 "nbformat": 4,
 "nbformat_minor": 5
}
