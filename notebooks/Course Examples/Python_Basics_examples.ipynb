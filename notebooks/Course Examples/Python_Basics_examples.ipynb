{
  "nbformat": 4,
  "nbformat_minor": 0,
  "metadata": {
    "colab": {
      "provenance": []
    },
    "kernelspec": {
      "name": "python3",
      "display_name": "Python 3"
    },
    "language_info": {
      "name": "python"
    }
  },
  "cells": [
    {
      "cell_type": "markdown",
      "source": [
        "### Let's explore more in depth the basics"
      ],
      "metadata": {
        "id": "jZsBxj4TqF-6"
      }
    },
    {
      "cell_type": "markdown",
      "source": [
        "#### Variables"
      ],
      "metadata": {
        "id": "We1C7xV6phAt"
      }
    },
    {
      "cell_type": "code",
      "source": [
        "# Assigning a value to a variable:\n",
        "x = 5\n",
        "y = 10\n",
        "z = x + y\n",
        "print(z) # Output: 15"
      ],
      "metadata": {
        "colab": {
          "base_uri": "https://localhost:8080/"
        },
        "id": "y1KZModXpgab",
        "outputId": "6f5da965-1781-4ef9-c741-9abd8c089b31"
      },
      "execution_count": 12,
      "outputs": [
        {
          "output_type": "stream",
          "name": "stdout",
          "text": [
            "15\n"
          ]
        }
      ]
    },
    {
      "cell_type": "code",
      "source": [
        "# Assigning a value to multiple variables at once:\n",
        "a, b, c = 1, 2, 3\n",
        "print(a) # Output: 1\n",
        "print(b) # Output: 2\n",
        "print(c) # Output: 3"
      ],
      "metadata": {
        "colab": {
          "base_uri": "https://localhost:8080/"
        },
        "id": "bBrI3LzRs0_w",
        "outputId": "c04eca90-59a7-4d7f-f036-cb5cbebf9d4c"
      },
      "execution_count": 11,
      "outputs": [
        {
          "output_type": "stream",
          "name": "stdout",
          "text": [
            "1\n",
            "2\n",
            "3\n"
          ]
        }
      ]
    },
    {
      "cell_type": "code",
      "source": [
        "# Assigning a value to a variable and then reassigning a new value:\n",
        "name = \"John\"\n",
        "print(name) # Output: John\n",
        "name = \"Eric\"\n",
        "print(name) # Output: Eric"
      ],
      "metadata": {
        "colab": {
          "base_uri": "https://localhost:8080/"
        },
        "id": "PQiTAn1ls09E",
        "outputId": "3f11cd3d-2fb5-4470-df67-34eb00457a82"
      },
      "execution_count": 10,
      "outputs": [
        {
          "output_type": "stream",
          "name": "stdout",
          "text": [
            "John\n",
            "Eric\n"
          ]
        }
      ]
    },
    {
      "cell_type": "code",
      "source": [
        "# Assigning a value to a variable and then using it in a calculation:\n",
        "num1 = 15\n",
        "num2 = 20\n",
        "result = num1 * num2\n",
        "print(result) # Output: 300"
      ],
      "metadata": {
        "colab": {
          "base_uri": "https://localhost:8080/"
        },
        "id": "x_xvdgBps06d",
        "outputId": "50325deb-bbb0-4a35-82dd-a294881e641a"
      },
      "execution_count": 9,
      "outputs": [
        {
          "output_type": "stream",
          "name": "stdout",
          "text": [
            "300\n"
          ]
        }
      ]
    },
    {
      "cell_type": "code",
      "source": [
        "# Using a variable as an input for a function:\n",
        "name = \"Michael\"\n",
        "age = 25\n",
        "print(\"My name is \" + name + \" and I am \" + str(age) + \" years old.\")"
      ],
      "metadata": {
        "colab": {
          "base_uri": "https://localhost:8080/"
        },
        "id": "4YYaNdHLs0y-",
        "outputId": "db0bb9b9-4945-4413-ae6f-a828a0aa7bdf"
      },
      "execution_count": 8,
      "outputs": [
        {
          "output_type": "stream",
          "name": "stdout",
          "text": [
            "My name is Michael and I am 25 years old.\n"
          ]
        }
      ]
    },
    {
      "cell_type": "code",
      "source": [
        "# Assigning a value to a variable and then using it in a loop:\n",
        "word = \"hello\"\n",
        "for letter in word:\n",
        "    print(letter)"
      ],
      "metadata": {
        "colab": {
          "base_uri": "https://localhost:8080/"
        },
        "id": "47Hrci-Xs0te",
        "outputId": "69d38777-11c9-4559-a62a-912b768fe059"
      },
      "execution_count": 7,
      "outputs": [
        {
          "output_type": "stream",
          "name": "stdout",
          "text": [
            "h\n",
            "e\n",
            "l\n",
            "l\n",
            "o\n"
          ]
        }
      ]
    },
    {
      "cell_type": "code",
      "source": [
        "# Assign a value to a variable and then using it in a data structure, such as a list:\n",
        "x = 6\n",
        "numbers = [1, 2, 3, 4, 5]\n",
        "numbers.append(x)\n",
        "print(numbers)"
      ],
      "metadata": {
        "colab": {
          "base_uri": "https://localhost:8080/"
        },
        "id": "ZfklyN8ZtTJ-",
        "outputId": "487a9793-f13f-4edb-c11a-c86f9199fe26"
      },
      "execution_count": 6,
      "outputs": [
        {
          "output_type": "stream",
          "name": "stdout",
          "text": [
            "[1, 2, 3, 4, 5, 6]\n"
          ]
        }
      ]
    },
    {
      "cell_type": "markdown",
      "source": [
        "#### Data types"
      ],
      "metadata": {
        "id": "0WooaAaIphU9"
      }
    },
    {
      "cell_type": "code",
      "source": [
        "# lists \n",
        "\n",
        "# Creating a list\n",
        "a = [1, 2, 3, 4, 5]\n",
        "\n",
        "# Accessing elements in a list\n",
        "print(a[2])\n",
        "\n",
        "# Modifying elements in a list\n",
        "a[2] = 6\n",
        "print(a)\n",
        "\n",
        "# Adding elements to a list\n",
        "a.append(7)\n",
        "print(a) \n",
        "\n",
        "# Removing elements from a list\n",
        "a.remove(6)\n",
        "print(a)"
      ],
      "metadata": {
        "colab": {
          "base_uri": "https://localhost:8080/"
        },
        "id": "RXvH_Qy8u2BB",
        "outputId": "e0b93284-e2c2-4a1f-e05c-8244e09020c5"
      },
      "execution_count": 16,
      "outputs": [
        {
          "output_type": "stream",
          "name": "stdout",
          "text": [
            "3\n",
            "[1, 2, 6, 4, 5]\n",
            "[1, 2, 6, 4, 5, 7]\n",
            "[1, 2, 4, 5, 7]\n"
          ]
        }
      ]
    },
    {
      "cell_type": "code",
      "source": [
        "# tuples\n",
        "\n",
        "# Creating a tuple\n",
        "b = (1, 2, 3, 4, 5)\n",
        "\n",
        "# Accessing elements in a tuple\n",
        "print(b[2]) # Output: 3\n",
        "\n",
        "# Tuples are immutable, so modifying elements is not possible\n",
        "\n",
        "# Concatenating tuples\n",
        "c = b + (6, 7)\n",
        "print(c) # Output: (1, 2, 3, 4, 5, 6, 7)\n"
      ],
      "metadata": {
        "colab": {
          "base_uri": "https://localhost:8080/"
        },
        "id": "H9uQ5PJhpgYE",
        "outputId": "42300a95-02c6-4b82-9b97-61e410b9cb2d"
      },
      "execution_count": 19,
      "outputs": [
        {
          "output_type": "stream",
          "name": "stdout",
          "text": [
            "3\n",
            "(1, 2, 3, 4, 5, 6, 7)\n"
          ]
        }
      ]
    },
    {
      "cell_type": "code",
      "source": [
        "# dict\n",
        "\n",
        "# Creating a dictionary\n",
        "d = {'a': 1, 'b': 2, 'c': 3}\n",
        "\n",
        "# Accessing elements in a dictionary\n",
        "print(d['b'])\n",
        "\n",
        "# Modifying elements in a dictionary\n",
        "d['b'] = 4\n",
        "print(d) \n",
        "\n",
        "# Adding elements to a dictionary\n",
        "d['d'] = 5\n",
        "print(d)\n",
        "\n",
        "# Removing elements from a dictionary\n",
        "del d['a']\n",
        "print(d)"
      ],
      "metadata": {
        "colab": {
          "base_uri": "https://localhost:8080/"
        },
        "id": "8Lwb0AY6ucZU",
        "outputId": "3e695ced-3371-4dbf-9817-36b47e16f2c7"
      },
      "execution_count": 18,
      "outputs": [
        {
          "output_type": "stream",
          "name": "stdout",
          "text": [
            "2\n",
            "{'a': 1, 'b': 4, 'c': 3}\n",
            "{'a': 1, 'b': 4, 'c': 3, 'd': 5}\n",
            "{'b': 4, 'c': 3, 'd': 5}\n"
          ]
        }
      ]
    },
    {
      "cell_type": "code",
      "source": [
        "# sets\n",
        "\n",
        "# Creating a set\n",
        "e = {1, 2, 3, 4, 5}\n",
        "\n",
        "# Sets do not support indexing, so accessing elements is not possible\n",
        "\n",
        "# Modifying elements in a set\n",
        "e.add(6)\n",
        "print(e)\n",
        "e.remove(4)\n",
        "print(e)\n",
        "\n",
        "# Union and intersection of sets\n",
        "f = {4, 5, 6, 7, 8}\n",
        "print(e.union(f))\n",
        "print(e.intersection(f))"
      ],
      "metadata": {
        "colab": {
          "base_uri": "https://localhost:8080/"
        },
        "id": "eSv_O35VucWd",
        "outputId": "85ec98b8-cb0f-47db-f4a5-64f775b27605"
      },
      "execution_count": 22,
      "outputs": [
        {
          "output_type": "stream",
          "name": "stdout",
          "text": [
            "{1, 2, 3, 4, 5, 6}\n",
            "{1, 2, 3, 5, 6}\n",
            "{1, 2, 3, 4, 5, 6, 7, 8}\n",
            "{5, 6}\n"
          ]
        }
      ]
    },
    {
      "cell_type": "code",
      "source": [
        "# Creating a string\n",
        "g = \"Hello, World!\"\n",
        "\n",
        "# Accessing elements in a string\n",
        "print(g[7])\n",
        "\n",
        "# Modifying elements in a string is not possible as strings are immutable\n",
        "\n",
        "# Concatenating strings\n",
        "h = g + \" How are you?\"\n",
        "print(h)\n",
        "\n",
        "# Splitting a string\n",
        "print(h.split())"
      ],
      "metadata": {
        "colab": {
          "base_uri": "https://localhost:8080/"
        },
        "id": "0-F0dIJ1ucT1",
        "outputId": "b9491a29-2c54-4b5d-8aa0-1bf82efe5098"
      },
      "execution_count": 20,
      "outputs": [
        {
          "output_type": "stream",
          "name": "stdout",
          "text": [
            "W\n",
            "Hello, World! How are you?\n",
            "['Hello,', 'World!', 'How', 'are', 'you?']\n"
          ]
        }
      ]
    },
    {
      "cell_type": "markdown",
      "source": [
        "#### Operators"
      ],
      "metadata": {
        "id": "oQcVsFvophz9"
      }
    },
    {
      "cell_type": "code",
      "source": [
        "a = [1, 2, 3]\n",
        "b = [1, 2, 3]\n",
        "c = a\n",
        "\n",
        "print(a is b)\n",
        "print(a is c)"
      ],
      "metadata": {
        "colab": {
          "base_uri": "https://localhost:8080/"
        },
        "id": "mG2Y5P9NpgVc",
        "outputId": "bdcc5a82-fb43-484c-cd31-fab91358b592"
      },
      "execution_count": 23,
      "outputs": [
        {
          "output_type": "stream",
          "name": "stdout",
          "text": [
            "False\n",
            "True\n"
          ]
        }
      ]
    },
    {
      "cell_type": "code",
      "source": [
        "numbers = [1, 2, 3, 4, 5]\n",
        "\n",
        "print(3 in numbers)\n",
        "print(6 in numbers)"
      ],
      "metadata": {
        "colab": {
          "base_uri": "https://localhost:8080/"
        },
        "id": "lNBFDpalwcHr",
        "outputId": "adc1f5e3-91c4-4775-9776-8d85a1d37b52"
      },
      "execution_count": 24,
      "outputs": [
        {
          "output_type": "stream",
          "name": "stdout",
          "text": [
            "True\n",
            "False\n"
          ]
        }
      ]
    },
    {
      "cell_type": "code",
      "source": [
        "numbers = [1, 2, 3, 4, 5]\n",
        "\n",
        "print(3 not in numbers)\n",
        "print(6 not in numbers)"
      ],
      "metadata": {
        "colab": {
          "base_uri": "https://localhost:8080/"
        },
        "id": "PFsst9B_wcFW",
        "outputId": "91a492fc-a753-4056-bf20-6d823dc3d67b"
      },
      "execution_count": 25,
      "outputs": [
        {
          "output_type": "stream",
          "name": "stdout",
          "text": [
            "False\n",
            "True\n"
          ]
        }
      ]
    },
    {
      "cell_type": "code",
      "source": [
        "list1 = [1, 2, 3]\n",
        "list2 = [4, 5, 6]\n",
        "\n",
        "list3 = list1 + list2\n",
        "print(list3)"
      ],
      "metadata": {
        "colab": {
          "base_uri": "https://localhost:8080/"
        },
        "id": "FPsfwgMawcCp",
        "outputId": "317fa1b2-f9f5-48aa-8f12-85f8159f9e88"
      },
      "execution_count": 26,
      "outputs": [
        {
          "output_type": "stream",
          "name": "stdout",
          "text": [
            "[1, 2, 3, 4, 5, 6]\n"
          ]
        }
      ]
    },
    {
      "cell_type": "code",
      "source": [
        "list1 = [1, 2, 3]\n",
        "\n",
        "list2 = list1 * 3\n",
        "print(list2)"
      ],
      "metadata": {
        "colab": {
          "base_uri": "https://localhost:8080/"
        },
        "id": "5Y9h9_uqwcAD",
        "outputId": "03e0fc4e-4717-428a-fe97-529515619772"
      },
      "execution_count": 27,
      "outputs": [
        {
          "output_type": "stream",
          "name": "stdout",
          "text": [
            "[1, 2, 3, 1, 2, 3, 1, 2, 3]\n"
          ]
        }
      ]
    },
    {
      "cell_type": "code",
      "source": [
        "print(2 ** 3)"
      ],
      "metadata": {
        "colab": {
          "base_uri": "https://localhost:8080/"
        },
        "id": "VSzH48xAwb6k",
        "outputId": "14f2a457-fd7a-4f70-f162-f1b22c50c677"
      },
      "execution_count": 28,
      "outputs": [
        {
          "output_type": "stream",
          "name": "stdout",
          "text": [
            "8\n"
          ]
        }
      ]
    },
    {
      "cell_type": "code",
      "source": [
        "print(7 // 3)\n",
        "print(7 / 3)\n",
        "print(7 % 3)"
      ],
      "metadata": {
        "colab": {
          "base_uri": "https://localhost:8080/"
        },
        "id": "b9zE9ClUwb3L",
        "outputId": "20684ab0-be6d-4fe3-c35c-0777bfffcde7"
      },
      "execution_count": 33,
      "outputs": [
        {
          "output_type": "stream",
          "name": "stdout",
          "text": [
            "2\n",
            "2.3333333333333335\n",
            "1\n"
          ]
        }
      ]
    },
    {
      "cell_type": "markdown",
      "source": [
        "#### Control flow\n",
        "##### if-elif-else statements - for loop - while loop"
      ],
      "metadata": {
        "id": "9HhRLkDepier"
      }
    },
    {
      "cell_type": "code",
      "source": [
        "# Example 1: Using \"elif\" to check multiple conditions\n",
        "age = 25\n",
        "if age < 18:\n",
        "    print(\"You are a minor.\")\n",
        "elif age >= 18 and age < 30:\n",
        "    print(\"You are a young adult.\")\n",
        "else:\n",
        "    print(\"You are an adult.\")"
      ],
      "metadata": {
        "id": "ndb-RLjHxpzm"
      },
      "execution_count": null,
      "outputs": []
    },
    {
      "cell_type": "code",
      "source": [
        "# Example 2: Using \"for\" to iterate over a list\n",
        "fruits = [\"apple\", \"banana\", \"orange\"]\n",
        "for fruit in fruits:\n",
        "    print(fruit)"
      ],
      "metadata": {
        "id": "KBhu39hqxxT8"
      },
      "execution_count": null,
      "outputs": []
    },
    {
      "cell_type": "code",
      "source": [
        "# Example 3: Using \"while\" to repeat a block of code\n",
        "counter = 0\n",
        "while counter < 5:\n",
        "    print(counter)\n",
        "    counter += 1"
      ],
      "metadata": {
        "id": "S_P2tXuoxzwF"
      },
      "execution_count": null,
      "outputs": []
    },
    {
      "cell_type": "code",
      "source": [
        "# Example 4: Using \"break\" and \"continue\" in a loop\n",
        "numbers = [1, 2, 3, 4, 5]\n",
        "for number in numbers:\n",
        "    if number % 2 == 0:\n",
        "        continue\n",
        "    print(number)\n",
        "    if number == 3:\n",
        "        break"
      ],
      "metadata": {
        "id": "pf1WBaSYxzt_"
      },
      "execution_count": null,
      "outputs": []
    },
    {
      "cell_type": "code",
      "source": [
        "# Example 5: Using \"for\" and \"enumerate\" to iterate over a list with index\n",
        "fruits = [\"apple\", \"banana\", \"orange\"]\n",
        "for i, fruit in enumerate(fruits):\n",
        "    print(i, fruit)"
      ],
      "metadata": {
        "id": "DLk0J0QpxzrZ"
      },
      "execution_count": null,
      "outputs": []
    },
    {
      "cell_type": "markdown",
      "source": [
        "####Functions\n"
      ],
      "metadata": {
        "id": "3HlwFqV9qvDQ"
      }
    },
    {
      "cell_type": "code",
      "source": [
        "# Example 1: A function that takes a list and returns the average of its elements\n",
        "def average(numbers):\n",
        "    return sum(numbers) / len(numbers)\n",
        "\n",
        "result = average([1, 2, 3, 4, 5])\n",
        "print(result) "
      ],
      "metadata": {
        "colab": {
          "base_uri": "https://localhost:8080/"
        },
        "id": "ZfXbeEqmq7UG",
        "outputId": "d2d5ce9a-2e71-452b-9fc9-739953bc7f41"
      },
      "execution_count": 34,
      "outputs": [
        {
          "output_type": "stream",
          "name": "stdout",
          "text": [
            "3.0\n"
          ]
        }
      ]
    },
    {
      "cell_type": "code",
      "source": [
        "# Example 2: A function that uses a default value for an argument\n",
        "def power(number, exponent=2):\n",
        "    return number ** exponent\n",
        "\n",
        "print(power(3))\n",
        "print(power(3, 3))"
      ],
      "metadata": {
        "id": "T-iSc9KTyrd0"
      },
      "execution_count": null,
      "outputs": []
    },
    {
      "cell_type": "code",
      "source": [
        "# Example 3 : Function that takes in a list of numbers and returns the sum of the even numbers in the list\n",
        "def sum_of_even_numbers(numbers):\n",
        "    even_sum = 0\n",
        "    for number in numbers:\n",
        "        if number % 2 == 0:\n",
        "            even_sum += number\n",
        "    return even_sum\n",
        "\n",
        "numbers = [1, 2, 3, 4, 5, 6, 7, 8, 9, 10]\n",
        "print(sum_of_even_numbers(numbers))\n"
      ],
      "metadata": {
        "colab": {
          "base_uri": "https://localhost:8080/"
        },
        "id": "nrcDeJltyrbe",
        "outputId": "4aa3e887-ffd3-45dc-d690-ebeb029b5c59"
      },
      "execution_count": 38,
      "outputs": [
        {
          "output_type": "stream",
          "name": "stdout",
          "text": [
            "30\n"
          ]
        }
      ]
    },
    {
      "cell_type": "code",
      "source": [
        "# Example 4 : Function that takes in a string and returns a new string with all the vowels removed\n",
        "def remove_vowels(string):\n",
        "    vowels = ['a', 'e', 'i', 'o', 'u']\n",
        "    new_string = ''\n",
        "    for char in string:\n",
        "        if char.lower() not in vowels:\n",
        "            new_string += char\n",
        "    return new_string\n",
        "\n",
        "print(remove_vowels(\"Hello World\"))"
      ],
      "metadata": {
        "colab": {
          "base_uri": "https://localhost:8080/"
        },
        "id": "hpOH4PTYzOx-",
        "outputId": "720ab31a-4b43-4aae-ea2f-37becb062191"
      },
      "execution_count": 39,
      "outputs": [
        {
          "output_type": "stream",
          "name": "stdout",
          "text": [
            "Hll Wrld\n"
          ]
        }
      ]
    },
    {
      "cell_type": "code",
      "source": [
        "# Example 5 : Function that takes in a list of numbers and a number, and returns a new list with all the numbers in the original list that are greater than the given number\n",
        "def filter_numbers(numbers, number):\n",
        "    filtered_numbers = []\n",
        "    for num in numbers:\n",
        "        if num > number:\n",
        "            filtered_numbers.append(num)\n",
        "    return filtered_numbers\n",
        "\n",
        "numbers = [1, 2, 3, 4, 5, 6, 7, 8, 9, 10]\n",
        "print(filter_numbers(numbers, 5)) # Output: [6, 7, 8, 9, 10]"
      ],
      "metadata": {
        "colab": {
          "base_uri": "https://localhost:8080/"
        },
        "id": "OVsZ1GIKzOqs",
        "outputId": "3aa2da41-a866-4ce2-f34a-ce2a2760b2ce"
      },
      "execution_count": 40,
      "outputs": [
        {
          "output_type": "stream",
          "name": "stdout",
          "text": [
            "[6, 7, 8, 9, 10]\n"
          ]
        }
      ]
    },
    {
      "cell_type": "markdown",
      "source": [
        "#### Modules and Libraries"
      ],
      "metadata": {
        "id": "kFcOpITZqvAp"
      }
    },
    {
      "cell_type": "code",
      "source": [
        "# Using the math module to perform mathematical operations\n",
        "\n",
        "import math\n",
        "\n",
        "# Using the sqrt function from the math module\n",
        "print(math.sqrt(16))\n",
        "\n",
        "# Using the pi constant from the math module\n",
        "print(math.pi)"
      ],
      "metadata": {
        "colab": {
          "base_uri": "https://localhost:8080/"
        },
        "id": "Y338kf9Oq74B",
        "outputId": "5e361e9d-eafb-4697-dd93-0472d7ff08ff"
      },
      "execution_count": 41,
      "outputs": [
        {
          "output_type": "stream",
          "name": "stdout",
          "text": [
            "4.0\n",
            "3.141592653589793\n"
          ]
        }
      ]
    },
    {
      "cell_type": "code",
      "source": [
        "# Using the random module to generate random numbers:\n",
        "\n",
        "import random\n",
        "\n",
        "# Generating a random integer between 1 and 10\n",
        "print(random.randint(1, 10))\n",
        "\n",
        "# Generating a random float between 0 and 1\n",
        "print(random.random())\n",
        "\n",
        "# selecting a random item from a list\n",
        "my_list = [1, 2, 3, 4, 5]\n",
        "print(random.choice(my_list))"
      ],
      "metadata": {
        "colab": {
          "base_uri": "https://localhost:8080/"
        },
        "id": "cBqMxZ6U0JVj",
        "outputId": "2121ccff-c921-4ea2-efcb-326c09ea68e7"
      },
      "execution_count": 43,
      "outputs": [
        {
          "output_type": "stream",
          "name": "stdout",
          "text": [
            "1\n",
            "0.7110608023753344\n",
            "4\n"
          ]
        }
      ]
    },
    {
      "cell_type": "markdown",
      "source": [
        "#### Exception Handling\n"
      ],
      "metadata": {
        "id": "GZBE0-Bdqu9y"
      }
    },
    {
      "cell_type": "code",
      "source": [
        "# Example 1: Using a try-except block\n",
        "\n",
        "try:\n",
        "    # code that might raise an exception\n",
        "    result = 1 / 0\n",
        "except ZeroDivisionError:\n",
        "    # code to handle the exception\n",
        "    print(\"Cannot divide by zero.\")"
      ],
      "metadata": {
        "id": "5pFJ_d8iq8hL"
      },
      "execution_count": null,
      "outputs": []
    },
    {
      "cell_type": "code",
      "source": [
        "# Example 2: Using the \"raise\" keyword\n",
        "\n",
        "def divide(a, b):\n",
        "    if b == 0:\n",
        "        raise ValueError(\"Cannot divide by zero.\")\n",
        "    return a / b\n",
        "\n",
        "try:\n",
        "    result = divide(1, 0)\n",
        "except ValueError as e:\n",
        "    print(e)"
      ],
      "metadata": {
        "id": "WCZeDDHH1AHO"
      },
      "execution_count": null,
      "outputs": []
    },
    {
      "cell_type": "code",
      "source": [
        "# Example 3: Using an \"else\" block with a try-except block\n",
        "\n",
        "try:\n",
        "    # code that might raise an exception\n",
        "    result = 1 / 2\n",
        "except ZeroDivisionError:\n",
        "    # code to handle the exception\n",
        "    print(\"Cannot divide by zero.\")\n",
        "else:\n",
        "    # code to run if no exception was raised\n",
        "    print(result)"
      ],
      "metadata": {
        "id": "kjgPmUPB1Eph"
      },
      "execution_count": null,
      "outputs": []
    },
    {
      "cell_type": "code",
      "source": [],
      "metadata": {
        "id": "CYvesGSR1Iiu"
      },
      "execution_count": null,
      "outputs": []
    },
    {
      "cell_type": "code",
      "source": [],
      "metadata": {
        "id": "6AW0-RzF1IgH"
      },
      "execution_count": null,
      "outputs": []
    },
    {
      "cell_type": "code",
      "source": [],
      "metadata": {
        "id": "5vBEABqR1Idg"
      },
      "execution_count": null,
      "outputs": []
    },
    {
      "cell_type": "code",
      "source": [],
      "metadata": {
        "id": "KX7jDvILr6D7"
      },
      "execution_count": null,
      "outputs": []
    }
  ]
}