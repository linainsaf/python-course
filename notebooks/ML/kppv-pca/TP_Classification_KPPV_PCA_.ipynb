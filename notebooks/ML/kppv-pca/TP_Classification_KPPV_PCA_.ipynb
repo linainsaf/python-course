{
  "nbformat": 4,
  "nbformat_minor": 0,
  "metadata": {
    "colab": {
      "provenance": []
    },
    "kernelspec": {
      "name": "python3",
      "display_name": "Python 3"
    },
    "language_info": {
      "name": "python"
    }
  },
  "cells": [
    {
      "cell_type": "markdown",
      "source": [
        "# TP1 - Classification par Kppv"
      ],
      "metadata": {
        "id": "nfhgD1-6Mi_a"
      }
    },
    {
      "cell_type": "markdown",
      "source": [
        "Dans ce TP, nous allons utiliser une partie de la base de visages “Labeled Faces in the Wild” provenant de http://vis-www.cs.umass.edu/lfw/. Cette base contient 5749 personnes et 13233 images de taille 62 x 47 pixels. Certaines personnes ne sont représentées qu’une seule fois tandis que d’autres sont représentées très souvent (plus de 80 fois). Nous utiliserons ici seulement 7 personnes représentées 1288 fois."
      ],
      "metadata": {
        "id": "Vee8MZhLMbVG"
      }
    },
    {
      "cell_type": "code",
      "source": [
        "# Importer les librairies\n",
        "import numpy as np\n",
        "import matplotlib.pyplot as plt\n",
        "from sklearn.model_selection import train_test_split\n",
        "from sklearn.preprocessing import StandardScaler\n",
        "from sklearn.neighbors import KNeighborsClassifier\n",
        "from sklearn.metrics import confusion_matrix\n",
        "from sklearn.metrics import accuracy_score\n",
        "from sklearn.neighbors import DistanceMetric\n",
        "from sklearn.decomposition import PCA\n",
        "from time import perf_counter "
      ],
      "metadata": {
        "id": "6CuzdMlvM_pf"
      },
      "execution_count": 1,
      "outputs": []
    },
    {
      "cell_type": "markdown",
      "metadata": {
        "id": "XeH1LqU0l7Tx"
      },
      "source": [
        "## I- Chargement des données:"
      ]
    },
    {
      "cell_type": "markdown",
      "source": [
        "### Charger les données\n",
        "Charger les donner, puis afficher les en utilisant la fonction plot_gallery()  fournie."
      ],
      "metadata": {
        "id": "UoF-xseuMzGz"
      }
    },
    {
      "cell_type": "markdown",
      "source": [
        "#### Question\n",
        "\n",
        "- Sachant que X représente les features, y les labels et name le nom des classes, déterminer la taille des images, le nombre d’images et le nombre de classes.\n",
        "\n",
        "- Retrouver l’identité des 12 personnes affichées. Est-ce que les classes sont équiprobables ? \n",
        "\n",
        "- Retrouver le nombre d’exemples par classe. On pourra pour cela utiliser l’histogramme (plt.hist())."
      ],
      "metadata": {
        "id": "Ho3VB8PvNpGP"
      }
    },
    {
      "cell_type": "markdown",
      "source": [
        "### Partitionnement de la base d’apprentissage\n",
        "\n",
        "Partitionner la base en une base d’apprentissage et une base de test en mettant 25% des données\n",
        "en test (fonction train_test_split()) pour obtenir les variables X_train, X_test, y_train et y_test."
      ],
      "metadata": {
        "id": "UHCpKhBnN-v8"
      }
    },
    {
      "cell_type": "markdown",
      "source": [
        "#### Question\n",
        "- Combien y a-t-il d’images en train et en test ? \n",
        "- Quelles sont les dimensions des quatre variables X_train, X_test, y_train et y_test ?"
      ],
      "metadata": {
        "id": "T8hZuh7eOMZX"
      }
    },
    {
      "cell_type": "markdown",
      "metadata": {
        "id": "Ns464M3L1xL5"
      },
      "source": [
        "## II. Prétraitement des données:"
      ]
    },
    {
      "cell_type": "markdown",
      "source": [
        "### Redimensionnement des données\n",
        "\n",
        "Pour réaliser une classification par kppv, on utilise un codage rétinien. Chaque image est donc représentée par un vecteur de caractéristique de dimension 𝑛 = 2914. Redimensionner X_train et X_test de façon à ce qu’ils aient pour dimension 𝑁 x 𝑛 (np.reshape()) où N est le nombre d’exemples."
      ],
      "metadata": {
        "id": "L6UTERhXOW3W"
      }
    },
    {
      "cell_type": "markdown",
      "source": [
        "### Mise en forme des données pour la classification\n",
        "\n",
        "Mettre en forme les données (train et test) en utilisant la classe StandardScaler. On estimera la moyenne et l’écart-type de chaque dimension sur les données d’apprentissage, puis on transformera les données (train et test) en utilisant ces valeurs. Aller sur la documentation en\n",
        "ligne de StandardScaler pour voir quelle méthode de cette classe utiliser."
      ],
      "metadata": {
        "id": "Y8FyC9nbO4zp"
      }
    },
    {
      "cell_type": "markdown",
      "source": [
        "#### Question\n",
        "- A quoi consiste la mise en forme des données ? \n",
        "\n",
        "- Comment sont-elles transformées ?"
      ],
      "metadata": {
        "id": "GIjFJLdJPG1N"
      }
    },
    {
      "cell_type": "markdown",
      "metadata": {
        "id": "heTyZMyF-mo9"
      },
      "source": [
        "## III. Classification par les KPPV:"
      ]
    },
    {
      "cell_type": "markdown",
      "metadata": {
        "id": "NEjkX5vtzgrq"
      },
      "source": [
        "### Classifieur 1PPV\n",
        "\n",
        "- Définir le classifieur 1PPV en utilisant la classe KNeighborsClassifier(). On souhaite utiliser la distance euclidienne et le 1PPV. \n",
        "\n",
        "- Train le classifieur sur X_train, y_train.\n",
        "\n",
        "- Réaliser la classification des exemples de test en utilisant la méthode predict().\n",
        "\n",
        "#### Questions \n",
        "- Que représente la matrice de confusion ?\n",
        "- Que vaut sa somme ? \n",
        "- Est-ce que les classes sont équilibrées ?\n",
        "\n"
      ]
    },
    {
      "cell_type": "markdown",
      "source": [
        "Afficher la matrice de confusion (fonction confusion_matrix()) et estimer le taux dereconnaissance à partir des éléments de cette matrice. Vérifier que le taux est identique à celui renvoyé par la fonction accuracy_score()."
      ],
      "metadata": {
        "id": "XljO5r3uRNif"
      }
    },
    {
      "cell_type": "markdown",
      "source": [
        "### Classifieur KPPV\n",
        "Faire varier le K des KPPV et tracer l’évolution du taux de reconnaissance en fonction de K."
      ],
      "metadata": {
        "id": "vV_SjF7UQEq4"
      }
    },
    {
      "cell_type": "markdown",
      "metadata": {
        "id": "xSJCBR7Q1FmI"
      },
      "source": [
        "#### Questions :\n",
        "\n",
        "Conclusion ? Interpréter l’évolution des résultats en fonction de K"
      ]
    },
    {
      "cell_type": "markdown",
      "source": [
        "### Classifieur KPPV et distance de Manhattan\n",
        "\n",
        "Réaliser les mêmes tests avec la distance de Manhattan."
      ],
      "metadata": {
        "id": "p_9QAJoiSSDu"
      }
    },
    {
      "cell_type": "markdown",
      "metadata": {
        "id": "9qSd5niM1d0f"
      },
      "source": [
        "#### Questions :\n",
        "- Conclusion ? Interpréter l’évolution des résultats en fonction de K.\n",
        "- Pour résoudre ce problème de classification, quelle distance et valeur de K choisissez-vous suite à ces tests ?"
      ]
    },
    {
      "cell_type": "markdown",
      "metadata": {
        "id": "e7JTbfiYr6xq"
      },
      "source": [
        "# TP2: Analyse en composantes principales, classification et reconstruction :\n",
        "\n"
      ]
    },
    {
      "cell_type": "markdown",
      "metadata": {
        "id": "h12LzmUxsIRX"
      },
      "source": [
        "## I. Chargement et mise en forme des données:\n",
        "\n",
        "On utilisera les mêmes données que lors du TP1 avec leur redimensionnement et leur mise en forme.\n",
        "\n",
        "#### Questions\n",
        "\n",
        "- Combien y a-t-il de données en apprentissage et en test ?\n",
        "- Quelle est la dimension des données après redimensionnement ?\n"
      ]
    },
    {
      "cell_type": "markdown",
      "metadata": {
        "id": "8a5iGOClzeVL"
      },
      "source": [
        "## II. Analyse en composantes principales et classification"
      ]
    },
    {
      "cell_type": "markdown",
      "source": [
        "1. Définissez la décomposition en composantes principales en utilisant la fonction PCA() en gardant le maximum de composantes, ajuster le modèle sur X_train (   ) puis tracer les variances en utilisant l’attribut pca.explained_variance_ratio_  \n"
      ],
      "metadata": {
        "id": "wIRgkEXcTtqh"
      }
    },
    {
      "cell_type": "markdown",
      "source": [
        "2. Redéfinissez la décomposition en utilisant la fonction   en conservant 100 composantes, ajuster le modèle sur X_train, puis transformez les données X_train et X_test pour obtenir X_train1 et X_test1."
      ],
      "metadata": {
        "id": "ZItGRrnOUH0q"
      }
    },
    {
      "cell_type": "markdown",
      "metadata": {
        "id": "XCEnYi-34PWJ"
      },
      "source": [
        "3. Réaliser la classification sur les données de départ puis sur les nouvelles données avec la méthode du 5PPV et la distance de Manhattan. Conclure sur le taux de reconnaissance et les temps de calcul qui peuvente être déterminés par :\n",
        "\n",
        "\n",
        "\n",
        "```\n",
        "from time import perf_counter\n",
        " tps1 = perf_counter()\n",
        " tps2 = perf_counter()\n",
        " print(\"Durée de classification\",tps2 - tps1)\n",
        "```\n",
        "\n"
      ]
    },
    {
      "cell_type": "markdown",
      "metadata": {
        "id": "lyROEAZw3Q1H"
      },
      "source": [
        "#### Questions :\n",
        "\n",
        "- Que représentent les valeurs renvoyées par pca.explained_variance_ratio_ ? \n",
        "\n",
        "- Observer la taille de X_train1 et X_test1. Quelle est la nouvelle dimension des données ?\n",
        "- Comment varient les temps de calcul entre une classification avec ou sans ACP ?\n",
        "- Comment varient les taux de reconnaissance ?"
      ]
    },
    {
      "cell_type": "markdown",
      "metadata": {
        "id": "zS9lALi83iMO"
      },
      "source": [
        "## III. Analyse en composantes principales et reconstruction\n",
        "\n",
        "Le but est de compresser les images afin qu’elle prenne moins de place en mémoire. On va donc définir sur X_train la façon de compresser. Puis on comprimera et décomprimera les images de X_test afin de voir les pertes induites par la compression."
      ]
    },
    {
      "cell_type": "markdown",
      "metadata": {
        "id": "jJJHOx7h5XVc"
      },
      "source": [
        "- Définissez la décomposition en composantes principales en utilisant la fonction PCA() en conservant 50 composantes et ajuster le modèle sur X_train.\n",
        "\n",
        "\n",
        "- Récupérer les vecteurs propres en utilisant un attribut de PCA(). \n",
        "\n",
        "- Redimensionner les vecteurs propres en images propres (np.reshape()) de manière à pourvoir les visualiser sous forme d’images (array de taille 50x62x47). On utilisera la fonction plot_gallery() pour la visualisation."
      ]
    },
    {
      "cell_type": "markdown",
      "metadata": {
        "id": "4QiSny2J76aw"
      },
      "source": [
        "Questions:\n",
        "\n",
        "- Que représentent les vecteurs propres ?\n",
        "- Quelle est leur taille ?\n",
        "\n",
        "Les vecteurs propres représentent: \n",
        "\n",
        "Les axes principaux dans l'espace d'entités, représentant les directions de variance maximale dans les données. Les composants sont triés par explication_variance_."
      ]
    },
    {
      "cell_type": "markdown",
      "source": [
        "- On souhaite comprimer les images de X_test afin de les transmettre en utilisant le moins de bande passante possible. Pour cela, les 50 images propres sont transmises une fois. Pour chaque nouvelle image, on transmet uniquement ses composantes dans le nouveau système d’axe de dimension 50. L’image est ensuite reconstruite à l’arrivée.\n",
        "Appliquer l’ACP des images de X_test (X_testC)"
      ],
      "metadata": {
        "id": "UVtVWMZdWL3h"
      }
    },
    {
      "cell_type": "markdown",
      "source": [
        "- Reconstruisez les images à partir X_testC pour obtenir les images X_testR à partir d’une\n",
        "des méthodes de PCA(). Afficher les images reconstruites et les comparer visuellement\n",
        "aux images de départ."
      ],
      "metadata": {
        "id": "eC09qY5fWgE5"
      }
    },
    {
      "cell_type": "markdown",
      "source": [
        "-  Comparer les images initiales et reconstruites de manière quantitative en faisant la\n",
        "moyenne des distances euclidiennes :\n",
        "\n",
        "\n",
        "```\n",
        "E= (X_testR-X_test)**2\n",
        "E = np.mean(np.sqrt(np.sum(E,axis=0)))\n",
        "```"
      ],
      "metadata": {
        "id": "gST4TB40WzR9"
      }
    },
    {
      "cell_type": "markdown",
      "metadata": {
        "id": "FOxstCEbclc5"
      },
      "source": [
        "Questions: \n",
        "\n",
        "- Comparer les tailles de X_test et X_testC et en déduire le taux de compression.\n",
        "- Observer la taille de X_testR. Quel est le principe de la reconstruction des images ?\n",
        "\n",
        "- Comment passe-t-on de X_testC à X_testR ?"
      ]
    },
    {
      "cell_type": "markdown",
      "source": [
        "- Faire varier le nombre de composantes conservées de 10 à 950 par pas de 50 et calculer l’erreur de reconstruction. Afficher l’erreur de reconstruction en fonction du nombre de composantes."
      ],
      "metadata": {
        "id": "bw85j6lxXOu2"
      }
    },
    {
      "cell_type": "markdown",
      "source": [
        "- Comment varie l’erreur de reconstruction en fonction du nombre de composantes ? \n",
        "- Comparer visuellement les images initiales et reconstruites à partir de 950\n",
        "composantes. Conclusion ?"
      ],
      "metadata": {
        "id": "AicZF5p3XZdg"
      }
    },
    {
      "cell_type": "code",
      "source": [],
      "metadata": {
        "id": "t2ttZTalYMUp"
      },
      "execution_count": 1,
      "outputs": []
    }
  ]
}