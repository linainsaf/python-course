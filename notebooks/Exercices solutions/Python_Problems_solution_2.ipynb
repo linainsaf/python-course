{
  "nbformat": 4,
  "nbformat_minor": 0,
  "metadata": {
    "colab": {
      "provenance": []
    },
    "kernelspec": {
      "name": "python3",
      "display_name": "Python 3"
    },
    "language_info": {
      "name": "python"
    }
  },
  "cells": [
    {
      "cell_type": "markdown",
      "source": [
        "### Problem 1\n",
        "Write a function to calculate the factorial of a number."
      ],
      "metadata": {
        "id": "fGc6hfgWg8S4"
      }
    },
    {
      "cell_type": "code",
      "execution_count": null,
      "metadata": {
        "id": "xh10KMV37Zac"
      },
      "outputs": [],
      "source": [
        "def factorial(n):\n",
        "    if n == 0:\n",
        "        return 1\n",
        "    else:\n",
        "        return n * factorial(n-1)\n",
        "\n",
        "print(factorial(5)) # Output: 120"
      ]
    },
    {
      "cell_type": "markdown",
      "source": [
        "### Problem 2\n",
        "\n",
        "Write a function that takes two lists and returns True if they have at least one common member."
      ],
      "metadata": {
        "id": "spJUDfWxg-hW"
      }
    },
    {
      "cell_type": "code",
      "source": [
        "def common_member(a, b):\n",
        "    for i in a:\n",
        "        for j in b:\n",
        "            if i == j:\n",
        "                return True\n",
        "    return False\n",
        "\n",
        "a = [1, 2, 3, 4, 5]\n",
        "b = [5, 6, 7, 8, 9]\n",
        "print(common_member(a, b)) # Output: True\n"
      ],
      "metadata": {
        "id": "LAXo2s6Wg90g"
      },
      "execution_count": null,
      "outputs": []
    },
    {
      "cell_type": "markdown",
      "source": [
        "### Problem 3\n",
        "\n",
        "Write a function that takes a string and returns the first non-repeated character in the string."
      ],
      "metadata": {
        "id": "L9eJRt8Gg-26"
      }
    },
    {
      "cell_type": "code",
      "source": [
        "def first_non_repeated_character(string):\n",
        "    char_count = {}\n",
        "    for i in string:\n",
        "        if i in char_count:\n",
        "            char_count[i] += 1\n",
        "        else:\n",
        "            char_count[i] = 1\n",
        "    for i in string:\n",
        "        if char_count[i] == 1:\n",
        "            return i\n",
        "    return None\n",
        "\n",
        "string = 'abcdefghijklmnopqrstuvwxyzbcdefghijklmnopqrstuvwxyz'\n",
        "print(first_non_repeated_character(string)) # Output: 'a'\n"
      ],
      "metadata": {
        "colab": {
          "base_uri": "https://localhost:8080/"
        },
        "id": "GwPmCaCpg9x3",
        "outputId": "3380357b-bbf2-4f75-9d1d-c2317ae93450"
      },
      "execution_count": null,
      "outputs": [
        {
          "output_type": "stream",
          "name": "stdout",
          "text": [
            "a\n"
          ]
        }
      ]
    },
    {
      "cell_type": "markdown",
      "source": [
        "### Problem 4\n",
        "\n",
        "Write a Python function that takes two strings and returns True if the first string is a substring of the second string, and False otherwise."
      ],
      "metadata": {
        "id": "3nXYZ-PFj-GE"
      }
    },
    {
      "cell_type": "code",
      "source": [
        "def is_substring(s1, s2):\n",
        "    return s1 in s2\n",
        "\n",
        "print(is_substring(\"hello\", \"hello world\"))"
      ],
      "metadata": {
        "id": "tiaxoj4sg9sa"
      },
      "execution_count": null,
      "outputs": []
    },
    {
      "cell_type": "markdown",
      "source": [
        "### Problem 5\n",
        "\n",
        "Write a Python program to find the sum of the digits of a number."
      ],
      "metadata": {
        "id": "mzXxJiPdl6La"
      }
    },
    {
      "cell_type": "code",
      "source": [
        "def sum_of_digits(number):\n",
        "    return sum(int(digit) for digit in str(number))\n",
        "\n",
        "print(sum_of_digits(123))"
      ],
      "metadata": {
        "id": "_pdbo5U5g9py"
      },
      "execution_count": null,
      "outputs": []
    },
    {
      "cell_type": "markdown",
      "source": [
        "### Problem 6\n",
        "\n",
        "Write a Python program to find the longest word in a list of words."
      ],
      "metadata": {
        "id": "JEYg2AUMmGIL"
      }
    },
    {
      "cell_type": "code",
      "source": [
        "def find_longest_word(words):\n",
        "    return max(words, key=len)\n",
        "\n",
        "print(find_longest_word([\"apple\", \"banana\", \"cherry\"]))"
      ],
      "metadata": {
        "id": "CMR7pJstg9m-"
      },
      "execution_count": null,
      "outputs": []
    },
    {
      "cell_type": "markdown",
      "source": [
        "### Problem 7\n",
        "\n",
        "Write a Python program to sort a list of dictionaries by a given key."
      ],
      "metadata": {
        "id": "5EJP_HkfmpdA"
      }
    },
    {
      "cell_type": "code",
      "source": [
        "def sort_dict_list(dict_list, key):\n",
        "    return sorted(dict_list, key=lambda x: x[key])\n",
        "\n",
        "dict_list = [{\"name\": \"John\", \"age\": 25}, {\"name\": \"Jane\", \"age\": 22}, {\"name\": \"Jim\", \"age\": 30}]\n",
        "print(sort_dict_list(dict_list, \"age\"))"
      ],
      "metadata": {
        "id": "x6ymqtCYmh2q",
        "colab": {
          "base_uri": "https://localhost:8080/"
        },
        "outputId": "338d6a28-4f4d-400e-b1bc-d59eea2dcaa2"
      },
      "execution_count": null,
      "outputs": [
        {
          "output_type": "stream",
          "name": "stdout",
          "text": [
            "[{'name': 'Jane', 'age': 22}, {'name': 'John', 'age': 25}, {'name': 'Jim', 'age': 30}]\n"
          ]
        }
      ]
    },
    {
      "cell_type": "markdown",
      "source": [
        "### Problem 8\n",
        "\n",
        "Write a Python program to find the frequency of each word in a string."
      ],
      "metadata": {
        "id": "QPyB2QXGmv_M"
      }
    },
    {
      "cell_type": "code",
      "source": [
        "def word_frequency(string):\n",
        "    #splitting my sentence into words \n",
        "    words = string.split()\n",
        "    #print(words)\n",
        "    word_count = {}\n",
        "    for word in words:\n",
        "        if word in word_count:\n",
        "            word_count[word] += 1\n",
        "        else:\n",
        "            word_count[word] = 1\n",
        "    return word_count\n",
        "\n",
        "string = \"the quick brown the fox jumps over the lazy dog\"\n",
        "dic = word_frequency(string)\n",
        "dic[\"fox\"]"
      ],
      "metadata": {
        "colab": {
          "base_uri": "https://localhost:8080/"
        },
        "id": "VEuDauyzmwjU",
        "outputId": "be8bc548-af07-418d-80c2-8ca610b17731"
      },
      "execution_count": null,
      "outputs": [
        {
          "output_type": "execute_result",
          "data": {
            "text/plain": [
              "1"
            ]
          },
          "metadata": {},
          "execution_count": 7
        }
      ]
    },
    {
      "cell_type": "markdown",
      "source": [
        "### Problem 9\n",
        "\n",
        "Write a Python program to find the prime numbers in a given range."
      ],
      "metadata": {
        "id": "sc_U5CjanMMW"
      }
    },
    {
      "cell_type": "code",
      "source": [
        "def prime_numbers(start, end):\n",
        "    prime_list = []\n",
        "    for number in range(start, end + 1):\n",
        "        for i in range(2, number):\n",
        "            if number % i == 0:\n",
        "                break\n",
        "        else:\n",
        "            prime_list.append(number)\n",
        "    return prime_list\n",
        "\n",
        "print(prime_numbers(2, 20))"
      ],
      "metadata": {
        "id": "nvmeIsL0mzsA",
        "colab": {
          "base_uri": "https://localhost:8080/"
        },
        "outputId": "f4929d41-8f97-488f-ea20-87bd740e774b"
      },
      "execution_count": null,
      "outputs": [
        {
          "output_type": "stream",
          "name": "stdout",
          "text": [
            "[2, 3, 5, 7, 11, 13, 17, 19]\n"
          ]
        }
      ]
    },
    {
      "cell_type": "code",
      "source": [],
      "metadata": {
        "id": "hr8TP25yn8Lq"
      },
      "execution_count": null,
      "outputs": []
    }
  ]
}