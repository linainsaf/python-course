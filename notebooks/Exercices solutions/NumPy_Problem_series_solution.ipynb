{
  "nbformat": 4,
  "nbformat_minor": 0,
  "metadata": {
    "colab": {
      "provenance": []
    },
    "kernelspec": {
      "name": "python3",
      "display_name": "Python 3"
    },
    "language_info": {
      "name": "python"
    }
  },
  "cells": [
    {
      "cell_type": "markdown",
      "source": [
        "### Exercice 1:\n",
        "Create a 1-dimensional NumPy array with 5 integers from 0 to 4."
      ],
      "metadata": {
        "id": "OXI9gLlFd4yM"
      }
    },
    {
      "cell_type": "code",
      "source": [
        "import numpy as np\n",
        "\n",
        "a = np.array([0, 1, 2, 3, 4])\n",
        "print(a)"
      ],
      "metadata": {
        "id": "zfjfTT1Ad5BD"
      },
      "execution_count": null,
      "outputs": []
    },
    {
      "cell_type": "markdown",
      "source": [
        " ### Exercice 2:\n",
        " Create a 2-dimensional NumPy array with shape (2, 3) containing only ones."
      ],
      "metadata": {
        "id": "uxF4VxyNdE1f"
      }
    },
    {
      "cell_type": "code",
      "execution_count": null,
      "metadata": {
        "id": "xqXKulVCc2LL"
      },
      "outputs": [],
      "source": [
        "a = np.ones((2, 3))\n",
        "print(a)"
      ]
    },
    {
      "cell_type": "markdown",
      "source": [
        "### Exercice 3:\n",
        "Create a 3-dimensional NumPy array with shape (2, 3, 4) containing only zeros."
      ],
      "metadata": {
        "id": "5lZ_Kas9dF_a"
      }
    },
    {
      "cell_type": "code",
      "source": [
        "a = np.zeros((2, 3, 4))\n",
        "print(a)"
      ],
      "metadata": {
        "id": "0bpg12D3dLmD"
      },
      "execution_count": null,
      "outputs": []
    },
    {
      "cell_type": "markdown",
      "source": [
        "### Exercice 4:\n",
        "Create a 2-dimensional NumPy array with shape (3, 4) containing random integers between 0 and 9."
      ],
      "metadata": {
        "id": "0xD6apZpdL4u"
      }
    },
    {
      "cell_type": "code",
      "source": [
        "a = np.random.randint(0, 10, size=(3, 4))\n",
        "print(a)"
      ],
      "metadata": {
        "id": "9pTupN5_dNWv"
      },
      "execution_count": null,
      "outputs": []
    },
    {
      "cell_type": "markdown",
      "source": [
        "### Exercice 5:\n",
        "Create a 2-dimensional NumPy array with shape (3, 4) and find its dimensions and size."
      ],
      "metadata": {
        "id": "-Mln-90sdNpw"
      }
    },
    {
      "cell_type": "code",
      "source": [
        "a = np.zeros((3, 4))\n",
        "print(\"Dimensions:\", a.ndim)\n",
        "print(\"Shape:\", a.shape)\n",
        "print(\"Size:\", a.size)"
      ],
      "metadata": {
        "id": "F27BH-sYdN-U"
      },
      "execution_count": null,
      "outputs": []
    },
    {
      "cell_type": "markdown",
      "source": [
        "### Exercice 6:\n",
        "Create a 2-dimensional NumPy array with shape (3, 4) and calculate the sum of all its elements."
      ],
      "metadata": {
        "id": "JECID7F1dOUe"
      }
    },
    {
      "cell_type": "code",
      "source": [
        "a = np.random.randint(0, 10, size=(3, 4))\n",
        "print(a)\n",
        "print(\"Sum:\", np.sum(a))"
      ],
      "metadata": {
        "id": "H78URBmVdOnd"
      },
      "execution_count": null,
      "outputs": []
    },
    {
      "cell_type": "markdown",
      "source": [
        "### Exercice 7:\n",
        "Create a 2-dimensional NumPy array with shape (3, 4) and find the minimum and maximum value in each row."
      ],
      "metadata": {
        "id": "FUEt_rFpdZay"
      }
    },
    {
      "cell_type": "code",
      "source": [
        "a = np.random.randint(0, 10, size=(3, 4))\n",
        "print(a)\n",
        "print(\"Minimum values:\", np.min(a, axis=1))\n",
        "print(\"Maximum values:\", np.max(a, axis=1))"
      ],
      "metadata": {
        "id": "-RKI4m-_dZ37"
      },
      "execution_count": null,
      "outputs": []
    },
    {
      "cell_type": "markdown",
      "source": [
        "### Exercice 8:\n",
        "Create a 2-dimensional NumPy array with shape (3, 4) and replace all the odd numbers with -1."
      ],
      "metadata": {
        "id": "LCHEvMbLdcWg"
      }
    },
    {
      "cell_type": "code",
      "source": [
        "a = np.random.randint(0, 10, size=(3, 4))\n",
        "print(\"Before:\", a)\n",
        "a[a % 2 == 1] = -1\n",
        "print(\"After:\", a)"
      ],
      "metadata": {
        "id": "shWsYDF6dgSm"
      },
      "execution_count": null,
      "outputs": []
    },
    {
      "cell_type": "markdown",
      "source": [
        "### Exercice 9:\n",
        "Create a 2-dimensional NumPy array with shape (3, 4) and extract the elements in the second and third row and the second and third column."
      ],
      "metadata": {
        "id": "ZiFcLInIdfOK"
      }
    },
    {
      "cell_type": "code",
      "source": [
        "a = np.random.randint(0, 10, size=(3, 4))\n",
        "print(a)\n",
        "b = a[1:3, 1:3]\n",
        "print(b)"
      ],
      "metadata": {
        "id": "NDJYkBT-dhHM"
      },
      "execution_count": null,
      "outputs": []
    },
    {
      "cell_type": "markdown",
      "source": [
        "### Exercice 10:\n",
        "Create a 2-dimensional NumPy array with shape (3, 4) and multiply each element by 2."
      ],
      "metadata": {
        "id": "xmRnLq1bdhaN"
      }
    },
    {
      "cell_type": "code",
      "source": [
        "a = np.random.randint(0, 10, size=(3, 4))\n",
        "print(\"Before:\", a)\n",
        "a = a * 2\n",
        "print(\"After:\", a)"
      ],
      "metadata": {
        "id": "jcQQ4JukdhrI"
      },
      "execution_count": null,
      "outputs": []
    }
  ]
}