{
  "nbformat": 4,
  "nbformat_minor": 0,
  "metadata": {
    "colab": {
      "provenance": []
    },
    "kernelspec": {
      "name": "python3",
      "display_name": "Python 3"
    },
    "language_info": {
      "name": "python"
    }
  },
  "cells": [
    {
      "cell_type": "markdown",
      "source": [
        "### Let's solve some problems using python"
      ],
      "metadata": {
        "id": "xTRWGqabznH4"
      }
    },
    {
      "cell_type": "markdown",
      "source": [
        "#### Problem 1 \n",
        "\n",
        "Write a Python function that takes a list of numbers as an argument and returns the largest number in the list."
      ],
      "metadata": {
        "id": "OPCBwZq8pJ1t"
      }
    },
    {
      "cell_type": "code",
      "source": [
        "def find_largest(nums):\n",
        "    largest = nums[0]\n",
        "    for num in nums:\n",
        "        if num > largest:\n",
        "            largest = num\n",
        "    return largest\n",
        "\n",
        "numbers = [3, 5, 2, 8, 4]\n",
        "print(find_largest(numbers)) # Output: 8"
      ],
      "metadata": {
        "colab": {
          "base_uri": "https://localhost:8080/"
        },
        "id": "v6XzkuOFpBDl",
        "outputId": "dc75f9e5-ea2e-4799-dbd2-aafab499b630"
      },
      "execution_count": null,
      "outputs": [
        {
          "output_type": "stream",
          "name": "stdout",
          "text": [
            "8\n"
          ]
        }
      ]
    },
    {
      "cell_type": "markdown",
      "source": [
        "#### Problem 2\n",
        "\n",
        "Write a Python function that takes a string as an argument and returns the number of vowels in the string."
      ],
      "metadata": {
        "id": "FcGyqrYUpWia"
      }
    },
    {
      "cell_type": "code",
      "source": [
        "def count_vowels(s):\n",
        "    vowels = 'aeiouAEIOU'\n",
        "    count = 0\n",
        "    for char in s:\n",
        "        if char in vowels:\n",
        "            count += 1\n",
        "    return count\n",
        "\n",
        "sentence = \"Hello, World!\"\n",
        "print(count_vowels(sentence)) # Output: 3"
      ],
      "metadata": {
        "colab": {
          "base_uri": "https://localhost:8080/"
        },
        "id": "8ZpPVyeMpBF3",
        "outputId": "51fd66a4-dc45-423c-d53f-0b44fb5b279f"
      },
      "execution_count": null,
      "outputs": [
        {
          "output_type": "stream",
          "name": "stdout",
          "text": [
            "3\n"
          ]
        }
      ]
    },
    {
      "cell_type": "markdown",
      "source": [
        "#### Problem 3\n",
        "\n",
        "Write a Python function that takes a list of strings as an argument and returns a list of strings that contains only the even-length strings from the original list."
      ],
      "metadata": {
        "id": "6azHwtX9pXmW"
      }
    },
    {
      "cell_type": "code",
      "source": [
        "def even_length_strings(strings):\n",
        "    even_strings = []\n",
        "    for s in strings:\n",
        "        if len(s) % 2 == 0:\n",
        "            even_strings.append(s)\n",
        "    return even_strings\n",
        "\n",
        "words = ['cat', 'dog', 'bird', 'monkey', 'elephant']\n",
        "print(even_length_strings(words)) # Output: ['bird', 'monkey', 'elephant']"
      ],
      "metadata": {
        "id": "ImDaNIlW4MsM",
        "colab": {
          "base_uri": "https://localhost:8080/"
        },
        "outputId": "c6c2dce8-9659-4a22-f014-c024d105b850"
      },
      "execution_count": null,
      "outputs": [
        {
          "output_type": "stream",
          "name": "stdout",
          "text": [
            "['bird', 'monkey', 'elephant']\n"
          ]
        }
      ]
    },
    {
      "cell_type": "markdown",
      "source": [
        "Write a Python function that takes a list of integers as an argument and returns the sum of the squares of the integers in the list."
      ],
      "metadata": {
        "id": "hYm2H5j-rxhU"
      }
    },
    {
      "cell_type": "code",
      "source": [
        "def sum_of_squares(nums):\n",
        "    return sum([x**2 for x in nums])\n",
        "\n",
        "numbers = [1, 2, 3, 4, 5]\n",
        "print(sum_of_squares(numbers)) # Output: 55"
      ],
      "metadata": {
        "id": "0_nSemQR4Ncn",
        "colab": {
          "base_uri": "https://localhost:8080/"
        },
        "outputId": "2e62150f-e25b-432e-f7d1-ea0c17bfc1c9"
      },
      "execution_count": null,
      "outputs": [
        {
          "output_type": "stream",
          "name": "stdout",
          "text": [
            "55\n"
          ]
        }
      ]
    },
    {
      "cell_type": "markdown",
      "source": [],
      "metadata": {
        "id": "Lqhn6mxByN3k"
      }
    },
    {
      "cell_type": "markdown",
      "source": [
        "#### Problem 5\n",
        "\n",
        "Palindrome checker: Write a function that takes in a string and returns a Boolean indicating whether the string is a palindrome (a word or phrase that reads the same backwards as forwards).\n"
      ],
      "metadata": {
        "id": "r196AiQ61Vwt"
      }
    },
    {
      "cell_type": "code",
      "source": [
        "def is_palindrome(s):\n",
        "    return s == s[::-1]\n",
        "\n",
        "print(is_palindrome(\"racecar\")) # True\n",
        "print(is_palindrome(\"hello\")) # False"
      ],
      "metadata": {
        "id": "AiDZkVAz4OFw",
        "colab": {
          "base_uri": "https://localhost:8080/"
        },
        "outputId": "4b63ef7c-2c52-45b4-8cc8-2dca31c75a66"
      },
      "execution_count": null,
      "outputs": [
        {
          "output_type": "stream",
          "name": "stdout",
          "text": [
            "True\n",
            "False\n"
          ]
        }
      ]
    },
    {
      "cell_type": "markdown",
      "source": [
        ":#### Problem 6\n",
        "FizzBuzz: Write a program that prints the numbers from 1 to 25. But for multiples of three print \"Fizz\" instead of the number and for the multiples of five print \"Buzz\". For numbers which are multiples of both three and five print \"FizzBuzz\"."
      ],
      "metadata": {
        "id": "0TXzZysA1bBJ"
      }
    },
    {
      "cell_type": "code",
      "source": [
        "for i in range(1, 26):\n",
        "    if i % 15 == 0:\n",
        "        print(\"FizzBuzz\")\n",
        "    elif i % 3 == 0:\n",
        "        print(\"Fizz\")\n",
        "    elif i % 5 == 0:\n",
        "        print(\"Buzz\")\n",
        "    else:\n",
        "        print(i)"
      ],
      "metadata": {
        "id": "Nz-YBU2D4OtF",
        "colab": {
          "base_uri": "https://localhost:8080/"
        },
        "outputId": "83264c51-fe2d-431e-e0f4-2a6f4ab23a2f"
      },
      "execution_count": null,
      "outputs": [
        {
          "output_type": "stream",
          "name": "stdout",
          "text": [
            "1\n",
            "2\n",
            "Fizz\n",
            "4\n",
            "Buzz\n",
            "Fizz\n",
            "7\n",
            "8\n",
            "Fizz\n",
            "Buzz\n",
            "11\n",
            "Fizz\n",
            "13\n",
            "14\n",
            "FizzBuzz\n",
            "16\n",
            "17\n",
            "Fizz\n",
            "19\n",
            "Buzz\n",
            "Fizz\n",
            "22\n",
            "23\n",
            "Fizz\n",
            "Buzz\n"
          ]
        }
      ]
    },
    {
      "cell_type": "markdown",
      "source": [
        "#### Problem 7 \n",
        "\n",
        "Reverse a list: Write a function that takes in a list and returns a new list with the elements in reverse order."
      ],
      "metadata": {
        "id": "esDjCa5B1a-R"
      }
    },
    {
      "cell_type": "code",
      "source": [
        "def reverse_list(lst):\n",
        "  output = []\n",
        "  for l in range(len(lst)-1, -1, -1):\n",
        "    output.append(lst[l])\n",
        "  return output\n",
        "\n",
        "print(reverse_list([1, 2, 3, 4, 5])) # [5, 4, 3, 2, 1]"
      ],
      "metadata": {
        "id": "4IaZjSz04PB8",
        "colab": {
          "base_uri": "https://localhost:8080/"
        },
        "outputId": "3426ef1d-fb64-4f5c-decd-e56335fb080b"
      },
      "execution_count": null,
      "outputs": [
        {
          "output_type": "stream",
          "name": "stdout",
          "text": [
            "[5, 4, 3, 2, 1]\n"
          ]
        }
      ]
    },
    {
      "cell_type": "markdown",
      "source": [
        "#### Problem 8\n",
        "Leap year checker: Write a function that takes in a year and returns a Boolean indicating whether the year is a leap year. A leap year is divisible by 4, but not divisible by 100 unless it is also divisible by 400.\n"
      ],
      "metadata": {
        "id": "1b2Ex_cI1a79"
      }
    },
    {
      "cell_type": "code",
      "source": [
        "def is_leap_year(year):\n",
        "    if year % 4 == 0 and (year % 100 != 0 or year % 400 == 0):\n",
        "        return True\n",
        "    else:\n",
        "        return False\n",
        "\n",
        "print(is_leap_year(2000)) # True\n",
        "print(is_leap_year(1900)) # False"
      ],
      "metadata": {
        "colab": {
          "base_uri": "https://localhost:8080/"
        },
        "id": "ionGSWOo4PtL",
        "outputId": "cd449a8e-f25f-4024-fcff-6ba1d2332e9f"
      },
      "execution_count": null,
      "outputs": [
        {
          "output_type": "stream",
          "name": "stdout",
          "text": [
            "True\n",
            "False\n"
          ]
        }
      ]
    },
    {
      "cell_type": "markdown",
      "source": [
        "#### Problem 9\n",
        "Flatten a nested list: Write a function that takes in a nested list and returns a new list with all the elements flattened."
      ],
      "metadata": {
        "id": "pt47YCvX1a5l"
      }
    },
    {
      "cell_type": "code",
      "source": [
        "def flatten_list(lst):\n",
        "  flat_list = []\n",
        "  for i in lst:\n",
        "    if type(i) == list:\n",
        "      flat_list.extend(flatten_list(i))\n",
        "    else:\n",
        "      flat_list.append(i)\n",
        "    print(flat_list)\n",
        "  return flat_list\n",
        "\n",
        "\n",
        "print(flatten_list([1, [2, 3]])) # [1, 2, 3]"
      ],
      "metadata": {
        "id": "VqZfGw994QNb",
        "colab": {
          "base_uri": "https://localhost:8080/"
        },
        "outputId": "9119b99e-c4c9-40ac-fd60-88411acef297"
      },
      "execution_count": null,
      "outputs": [
        {
          "output_type": "stream",
          "name": "stdout",
          "text": [
            "[1]\n",
            "[2]\n",
            "[2, 3]\n",
            "[1, 2, 3]\n",
            "[1, 2, 3]\n"
          ]
        }
      ]
    },
    {
      "cell_type": "markdown",
      "source": [
        "[**1,** [2, [3, 4], 5]] => flat_list = [1]\n",
        "\n",
        "\n",
        "[1, [**2**, [3, 4], 5]] => flat_list = [2]\n",
        "\n",
        "\n",
        "[1, [2, [**3, 4**], 5]] => flat_list = [3, 4]\n",
        "\n",
        "[1, [**2, [3, 4]** ,5]] => flat_list = [2, 3, 4]\n",
        "\n",
        "[1, [**2, [3, 4] ,5**]] => flat_list = [2, 3, 4, 5]\n",
        "\n",
        "[**1, [2, [3, 4] ,5]**] => flat_list = [1, 2, 3, 4, 5]\n"
      ],
      "metadata": {
        "id": "104cpblh3ApB"
      }
    },
    {
      "cell_type": "markdown",
      "source": [
        "#### Problem 10\n",
        "\n",
        "Fibonacci Sequence Generator: Write a function that generates the Fibonacci sequence up to a given number of terms. The Fibonacci sequence is a series of numbers in which each number is the sum of the two preceding ones, usually starting with 0 and 1."
      ],
      "metadata": {
        "id": "GJteZg3U67J1"
      }
    },
    {
      "cell_type": "code",
      "source": [
        "def fibonacci(n):\n",
        "    fib_list = [0, 1]\n",
        "    for i in range(2, n):\n",
        "        fib_list.append(fib_list[i-1] + fib_list[i-2])\n",
        "    return fib_list\n",
        "\n",
        "print(fibonacci(10)) # [0, 1, 1, 2, 3, 5, 8, 13, 21, 34]"
      ],
      "metadata": {
        "id": "lm2HDiCv63aB",
        "colab": {
          "base_uri": "https://localhost:8080/"
        },
        "outputId": "b115e500-8947-4660-dc37-8cb62ecd7b0b"
      },
      "execution_count": null,
      "outputs": [
        {
          "output_type": "stream",
          "name": "stdout",
          "text": [
            "[0, 1, 1, 2, 3, 5, 8, 13, 21, 34]\n"
          ]
        }
      ]
    },
    {
      "cell_type": "code",
      "source": [],
      "metadata": {
        "id": "UQOW_EnI7NK5"
      },
      "execution_count": null,
      "outputs": []
    }
  ]
}