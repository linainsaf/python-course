{
  "nbformat": 4,
  "nbformat_minor": 0,
  "metadata": {
    "colab": {
      "provenance": []
    },
    "kernelspec": {
      "name": "python3",
      "display_name": "Python 3"
    },
    "language_info": {
      "name": "python"
    }
  },
  "cells": [
    {
      "cell_type": "markdown",
      "source": [
        "### Probelm 1\n",
        "\n",
        "Create a class Rectangle that represents a rectangle. The class should have properties width and height, and a method area that returns the area of the rectangle."
      ],
      "metadata": {
        "id": "nfkCD3f7RdAE"
      }
    },
    {
      "cell_type": "code",
      "source": [
        "## Class implementation\n",
        "class Rectangle:\n",
        "    def __init__(self, width, height):\n",
        "        self.width = width\n",
        "        self.height = height\n",
        "    \n",
        "    def area(self):\n",
        "        return self.width * self.height\n",
        "\n",
        "## Object declaration\n",
        "rect1 = Rectangle(3, 4)\n",
        "rect2 = Rectangle(5, 6)\n",
        "print(rect1.area())\n",
        "# Output: 12\n",
        "\n",
        "print(rect2.area())\n",
        "# Output: 30"
      ],
      "metadata": {
        "colab": {
          "base_uri": "https://localhost:8080/"
        },
        "id": "sp1XFN_KRckd",
        "outputId": "13e628ac-8d53-4d44-993e-79dc8bbdc6ad"
      },
      "execution_count": null,
      "outputs": [
        {
          "output_type": "stream",
          "name": "stdout",
          "text": [
            "12\n",
            "30\n"
          ]
        }
      ]
    },
    {
      "cell_type": "markdown",
      "source": [
        "### Probelm 2\n",
        "\n",
        "Create a class Circle with a property radius and a method area that returns the area of the circle."
      ],
      "metadata": {
        "id": "UsbxN38UQsFR"
      }
    },
    {
      "cell_type": "code",
      "execution_count": null,
      "metadata": {
        "colab": {
          "base_uri": "https://localhost:8080/"
        },
        "id": "7iRFnNVGQYID",
        "outputId": "bf8d2c0d-7c50-451a-f276-207f206a07c3"
      },
      "outputs": [
        {
          "output_type": "stream",
          "name": "stdout",
          "text": [
            "78.53981633974483\n"
          ]
        }
      ],
      "source": [
        "import math\n",
        "\n",
        "class Circle:\n",
        "    def __init__(self, radius):\n",
        "        self.radius = radius\n",
        "    \n",
        "    def area(self):\n",
        "        return math.pi * self.radius ** 2\n",
        "\n",
        "circle = Circle(5)\n",
        "print(circle.area())\n",
        "# Output: 78.53981633974483\n"
      ]
    },
    {
      "cell_type": "markdown",
      "source": [
        "### Probelm 3\n",
        "\n",
        "Create a class Account that represents a bank account. The class should have a method deposit that allows you to deposit money into the account, and a method withdraw that allows you to withdraw money from the account. The class should also have a property balance that represents the current balance of the account."
      ],
      "metadata": {
        "id": "1YPTQk3DRVyH"
      }
    },
    {
      "cell_type": "code",
      "source": [
        "## Class implementation\n",
        "class Account:\n",
        "    def __init__(self, name, balance=0):\n",
        "        self.name = name\n",
        "        self.balance = balance\n",
        "    \n",
        "    def deposit(self, amount):\n",
        "        self.balance += amount\n",
        "        return str(amount)+ \"has been deposited\"\n",
        "    \n",
        "    def withdraw(self, amount):\n",
        "        if self.balance >= amount:\n",
        "            self.balance -= amount\n",
        "            return str(amount) +\"has been withdrawn\"\n",
        "        else:\n",
        "            return \"Insufficient funds\"\n",
        "\n",
        "## Object declaration\n",
        "account = Account(\"John\", 1000)\n",
        "print(account.deposit(500))\n",
        "\n",
        "print(account.withdraw(1500))\n",
        "\n",
        "print(account.withdraw(500))"
      ],
      "metadata": {
        "colab": {
          "base_uri": "https://localhost:8080/"
        },
        "id": "veClazexQckp",
        "outputId": "9f60060b-2260-4ecc-af0d-0816954962ea"
      },
      "execution_count": null,
      "outputs": [
        {
          "output_type": "stream",
          "name": "stdout",
          "text": [
            "500has been deposited\n",
            "1500has been withdrawn\n",
            "Insufficient funds\n"
          ]
        }
      ]
    },
    {
      "cell_type": "markdown",
      "source": [
        "### Probelm 4\n",
        "\n",
        "Create a class Book with properties title, author, and pages and a method info that returns a string with information about the book."
      ],
      "metadata": {
        "id": "HLM4zYQkSulm"
      }
    },
    {
      "cell_type": "code",
      "source": [
        "class Book:\n",
        "    def __init__(self, title, author, pages):\n",
        "        self.title = title\n",
        "        self.author = author\n",
        "        self.pages = pages\n",
        "    \n",
        "    def info(self):\n",
        "        return f\"{self.title} by {self.author}, {self.pages} pages\"\n",
        "\n",
        "book = Book(\"To Kill a Mockingbird\", \"Harper Lee\", 281)\n",
        "print(book.info())\n",
        "# Output: To Kill a Mockingbird by Harper Lee, 281 pages\n"
      ],
      "metadata": {
        "colab": {
          "base_uri": "https://localhost:8080/"
        },
        "id": "rXMMwD4YQciA",
        "outputId": "1e73df7a-e775-4687-e9fa-fd41efde438b"
      },
      "execution_count": null,
      "outputs": [
        {
          "output_type": "stream",
          "name": "stdout",
          "text": [
            "To Kill a Mockingbird by Harper Lee, 281 pages\n"
          ]
        }
      ]
    },
    {
      "cell_type": "markdown",
      "source": [
        "### Probelm 5\n",
        "\n",
        "Create a class Movie with properties title, director, and year and a method play that prints \"Playing the movie [title]...\"."
      ],
      "metadata": {
        "id": "-vF4UcSrS12M"
      }
    },
    {
      "cell_type": "code",
      "source": [
        "class Movie:\n",
        "    def __init__(self, title, director, year):\n",
        "        self.title = title\n",
        "        self.director = director\n",
        "        self.year = year\n",
        "    \n",
        "    def play(self):\n",
        "        print(f\"Playing the movie {self.title}...\")\n",
        "\n",
        "movie = Movie(\"The Shawshank Redemption\", \"Frank Darabont\", 1994)\n",
        "movie.play()\n",
        "# Output: Playing the movie The Shawshank Redemption...\n"
      ],
      "metadata": {
        "colab": {
          "base_uri": "https://localhost:8080/"
        },
        "id": "MjUAIjmIQcfZ",
        "outputId": "2a6c10de-360c-4ca9-d155-d3fc4f32978c"
      },
      "execution_count": null,
      "outputs": [
        {
          "output_type": "stream",
          "name": "stdout",
          "text": [
            "Playing the movie The Shawshank Redemption...\n"
          ]
        }
      ]
    },
    {
      "cell_type": "code",
      "source": [],
      "metadata": {
        "id": "ZlqxYbh9Qccj"
      },
      "execution_count": null,
      "outputs": []
    },
    {
      "cell_type": "code",
      "source": [],
      "metadata": {
        "id": "-ebh8G6PQcZ7"
      },
      "execution_count": null,
      "outputs": []
    },
    {
      "cell_type": "code",
      "source": [],
      "metadata": {
        "id": "KQQQpibIQcXW"
      },
      "execution_count": null,
      "outputs": []
    },
    {
      "cell_type": "code",
      "source": [],
      "metadata": {
        "id": "EVRwnqcOQcUe"
      },
      "execution_count": null,
      "outputs": []
    }
  ]
}