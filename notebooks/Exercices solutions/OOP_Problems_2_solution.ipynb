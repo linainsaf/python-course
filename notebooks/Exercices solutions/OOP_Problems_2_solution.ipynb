{
  "nbformat": 4,
  "nbformat_minor": 0,
  "metadata": {
    "colab": {
      "provenance": []
    },
    "kernelspec": {
      "name": "python3",
      "display_name": "Python 3"
    },
    "language_info": {
      "name": "python"
    }
  },
  "cells": [
    {
      "cell_type": "markdown",
      "source": [
        "## Operator overloading\n",
        "### Problem 1\n",
        "Implement a complex number class. Overload the addition and subtraction operators to add and subtract two complex numbers."
      ],
      "metadata": {
        "id": "tDUtUIWQT5ef"
      }
    },
    {
      "cell_type": "code",
      "source": [
        "class Complex:\n",
        "    def __init__(self, real, imag):\n",
        "        self.real = real\n",
        "        self.imag = imag\n",
        "\n",
        "    def __add__(self, other):\n",
        "        return Complex(self.real + other.real, self.imag + other.imag)\n",
        "\n",
        "    def __sub__(self, other):\n",
        "        return Complex(self.real - other.real, self.imag - other.imag)\n",
        "\n",
        "    def __repr__(self):\n",
        "        return f\"{self.real} + {self.imag}j\"\n",
        "\n",
        "c1 = Complex(1, 2)\n",
        "c2 = Complex(3, 4)\n",
        "c3 = c1 + c2\n",
        "c4 = c1 - c2\n",
        "\n",
        "print(c3) # 4 + 6j\n",
        "print(c4) # -2 - 2j"
      ],
      "metadata": {
        "colab": {
          "base_uri": "https://localhost:8080/"
        },
        "id": "1H-mAuUHa9F5",
        "outputId": "a0b23921-5955-4676-cc78-bb9f439ec748"
      },
      "execution_count": null,
      "outputs": [
        {
          "output_type": "stream",
          "name": "stdout",
          "text": [
            "4 + 6j\n",
            "-2 + -2j\n"
          ]
        }
      ]
    },
    {
      "cell_type": "markdown",
      "source": [
        "### Problem 2\n",
        "\n",
        "Create a class Person with name, age and gender as its attributes. Overload the > operator to compare two persons based on their age, such that p1 > p2 returns True if the age of p1 is greater than p2 and False otherwise."
      ],
      "metadata": {
        "id": "3MIVTBb7dzcG"
      }
    },
    {
      "cell_type": "code",
      "source": [
        "class Person:\n",
        "    def __init__(self, name, age, gender):\n",
        "        self.name = name\n",
        "        self.age = age\n",
        "        self.gender = gender\n",
        "        \n",
        "    def __gt__(self, other):\n",
        "        return self.age > other.age\n",
        "    \n",
        "p1 = Person(\"John\", 30, \"Male\")\n",
        "p2 = Person(\"Jane\", 25, \"Female\")\n",
        "\n",
        "print(p1 > p2) # True"
      ],
      "metadata": {
        "colab": {
          "base_uri": "https://localhost:8080/"
        },
        "id": "Yoh9mn5zeCCo",
        "outputId": "22dfbed5-b1fc-43b9-c697-2d18eff9555f"
      },
      "execution_count": null,
      "outputs": [
        {
          "output_type": "stream",
          "name": "stdout",
          "text": [
            "True\n"
          ]
        }
      ]
    },
    {
      "cell_type": "markdown",
      "source": [
        "### Problem 4\n",
        "Create a class Vector that represents a vector in space, with x, y, and z as its attributes. Overload the * operator to return the dot product of two vectors, such that vector1 * vector2 returns the dot product of the two input vectors.\n"
      ],
      "metadata": {
        "id": "tL7S7qTreEe6"
      }
    },
    {
      "cell_type": "code",
      "source": [
        "class Vector:\n",
        "    def __init__(self, x, y, z):\n",
        "        self.x = x\n",
        "        self.y = y\n",
        "        self.z = z\n",
        "        \n",
        "    def __mul__(self, other):\n",
        "        return self.x * other.x + self.y * other.y + self.z * other.z\n",
        "    \n",
        "v1 = Vector(1, 2, 3)\n",
        "v2 = Vector(3, 2, 1)\n",
        "\n",
        "print(v1 * v2) # 10"
      ],
      "metadata": {
        "colab": {
          "base_uri": "https://localhost:8080/"
        },
        "id": "4svozfUteTSm",
        "outputId": "148081d7-3b39-401e-ece0-1bbb4c2fe37f"
      },
      "execution_count": null,
      "outputs": [
        {
          "output_type": "stream",
          "name": "stdout",
          "text": [
            "10\n"
          ]
        }
      ]
    },
    {
      "cell_type": "markdown",
      "source": [
        "### Problem 5\n",
        "\n",
        "Overloading comparison operator for two circles (<, >, ==, !=, >=, <=)"
      ],
      "metadata": {
        "id": "oDt1ZOsQbv7_"
      }
    },
    {
      "cell_type": "code",
      "source": [
        "class Circle:\n",
        "    def __init__(self, radius):\n",
        "        self.radius = radius\n",
        "        \n",
        "    def __lt__(self, other):\n",
        "        return self.radius < other.radius\n",
        "        \n",
        "    def __le__(self, other):\n",
        "        return self.radius <= other.radius\n",
        "        \n",
        "    def __eq__(self, other):\n",
        "        return self.radius == other.radius\n",
        "        \n",
        "    def __ne__(self, other):\n",
        "        return self.radius != other.radius\n",
        "        \n",
        "    def __gt__(self, other):\n",
        "        return self.radius > other.radius\n",
        "        \n",
        "    def __ge__(self, other):\n",
        "        return self.radius >= other.radius\n",
        "        \n",
        "c1 = Circle(5)\n",
        "c2 = Circle(6)\n",
        "print(c1 < c2) # Output: True\n",
        "print(c1 > c2) # Output: False\n",
        "print(c1 == c2) # Output: False"
      ],
      "metadata": {
        "colab": {
          "base_uri": "https://localhost:8080/"
        },
        "id": "qekzcRt5a9Cx",
        "outputId": "18184732-cb10-4a34-b226-ee5cdec3e830"
      },
      "execution_count": null,
      "outputs": [
        {
          "output_type": "stream",
          "name": "stdout",
          "text": [
            "True\n",
            "False\n",
            "False\n"
          ]
        }
      ]
    },
    {
      "cell_type": "markdown",
      "source": [
        "### Problem 6\n",
        "\n",
        "Implement a 2D point class. Overload the comparison operators to compare two points based on their Euclidean distance from the origin. Euclidean distance = sqrt(x^2 + y^2)"
      ],
      "metadata": {
        "id": "ctnQw6urcM2Y"
      }
    },
    {
      "cell_type": "code",
      "source": [
        "import math\n",
        "\n",
        "class Point:\n",
        "    def __init__(self, x, y):\n",
        "        self.x = x\n",
        "        self.y = y\n",
        "\n",
        "    def distance(self):\n",
        "        return math.sqrt(self.x**2 + self.y**2)\n",
        "\n",
        "    def __lt__(self, other):\n",
        "        return self.distance() < other.distance()\n",
        "\n",
        "    def __le__(self, other):\n",
        "        return self.distance() <= other.distance()\n",
        "\n",
        "    def __eq__(self, other):\n",
        "        return self.distance() == other.distance()\n",
        "\n",
        "    def __ne__(self, other):\n",
        "        return self.distance() != other.distance()\n",
        "\n",
        "    def __gt__(self, other):\n",
        "        return self.distance() > other.distance()\n",
        "\n",
        "    def __ge__(self, other):\n",
        "        return self.distance() >= other.distance()\n",
        "\n",
        "p1 = Point(1, 1)\n",
        "p2 = Point(2, 2)\n",
        "\n",
        "print(p1 < p2) # True\n",
        "print(p1 == p2) # False"
      ],
      "metadata": {
        "id": "JXWKlI8-cNKa"
      },
      "execution_count": null,
      "outputs": []
    },
    {
      "cell_type": "markdown",
      "source": [
        "### Problem 7\n",
        "Overloading multiplication operator for two matrices"
      ],
      "metadata": {
        "id": "tEZ_ZdVKcBTn"
      }
    },
    {
      "cell_type": "code",
      "source": [
        "class Matrix:\n",
        "    def __init__(self, matrix):\n",
        "        self.matrix = matrix\n",
        "        \n",
        "    def __mul__(self, other):\n",
        "        result = []\n",
        "        for i in range(len(self.matrix)):\n",
        "            row = []\n",
        "            for j in range(len(other.matrix[0])):\n",
        "                sum = 0\n",
        "                for k in range(len(other.matrix)):\n",
        "                    sum += self.matrix[i][k] * other.matrix[k][j]\n",
        "                row.append(sum)\n",
        "            result.append(row)\n",
        "        return Matrix(result)\n",
        "        \n",
        "    def __str__(self):\n",
        "        return str(self.matrix)\n",
        "        \n",
        "m1 = Matrix([[1, 2], [3, 4]])\n",
        "m2 = Matrix([[5, 6], [7, 8]])\n",
        "m3 = m1 * m2\n",
        "print(m3) # Output: [[19, 22], [43, 50]]"
      ],
      "metadata": {
        "colab": {
          "base_uri": "https://localhost:8080/"
        },
        "id": "uA5f1C-ta9AN",
        "outputId": "e7d87268-7887-4521-a1e6-7154cf2ff7f0"
      },
      "execution_count": null,
      "outputs": [
        {
          "output_type": "stream",
          "name": "stdout",
          "text": [
            "[[19, 22], [43, 50]]\n"
          ]
        }
      ]
    },
    {
      "cell_type": "markdown",
      "source": [
        "## Inheritance"
      ],
      "metadata": {
        "id": "QkKhkdTHesrr"
      }
    },
    {
      "cell_type": "markdown",
      "source": [
        "### Problem 1\n",
        "Create a class Vehicle that has a method drive that returns the string \"Driving a vehicle\". Create two subclasses, Car and Bicycle, that override this method to return \"Driving a car\" and \"Riding a bicycle\", respectively."
      ],
      "metadata": {
        "id": "NJsNxsw8T6hp"
      }
    },
    {
      "cell_type": "code",
      "source": [
        "class Vehicle:\n",
        "    def drive(self):\n",
        "        return \"Driving a vehicle\"\n",
        "\n",
        "class Car(Vehicle):\n",
        "    def drive(self):\n",
        "        return \"Driving a car\"\n",
        "\n",
        "class Bicycle(Vehicle):\n",
        "    def drive(self):\n",
        "        return \"Riding a bicycle\""
      ],
      "metadata": {
        "id": "KqJHlmFTT6tY"
      },
      "execution_count": null,
      "outputs": []
    },
    {
      "cell_type": "markdown",
      "source": [
        "### Problem 2\n",
        "- Create a Class Person with attributes : name, age, address and method : introduce\n",
        "\n",
        "- Create a subclass Student of the class Person  that has an attribute : field_of_study a personalized method : introduce\n",
        "\n",
        "- Create another subclass Employee of the class Person that has an attribute : company a personalized method : introduce\n",
        "\n",
        "- Test your classes"
      ],
      "metadata": {
        "id": "sJlZr3WHhZ2C"
      }
    },
    {
      "cell_type": "code",
      "execution_count": null,
      "metadata": {
        "id": "UGQYfaIHTzVx"
      },
      "outputs": [],
      "source": [
        "class Person:\n",
        "    def __init__(self, name, age, address):\n",
        "        self.name = name\n",
        "        self.age = age\n",
        "        self.address = address\n",
        "    \n",
        "    def introduce(self):\n",
        "        return \"Hi, my name is {} and I am {} years old.\".format(self.name, self.age)\n",
        "\n",
        "class Student(Person):\n",
        "    def __init__(self, name, age, address, field_of_study):\n",
        "        Person.__init__(self, name, age, address)\n",
        "        self.field_of_study = field_of_study\n",
        "    \n",
        "    def introduce(self):\n",
        "        introduction = Person.introduce(self)\n",
        "        return \"{} I am a student studying {}.\".format(introduction, self.field_of_study)\n",
        "\n",
        "class Employee(Person):\n",
        "    def __init__(self, name, age, address, company):\n",
        "        Person.__init__(self, name, age, address)\n",
        "        self.company = company\n",
        "    \n",
        "    def introduce(self):\n",
        "        introduction = Person.introduce(self)\n",
        "        return \"{} I work at {}.\".format(introduction, self.company)\n",
        "\n",
        "person = Person(\"John Doe\", 30, \"123 Main St.\")\n",
        "student = Student(\"Jane Doe\", 20, \"456 Elm St.\", \"Computer Science\")\n",
        "employee = Employee(\"Jim Smith\", 40, \"789 Oak St.\", \"Acme Inc.\")\n",
        "\n",
        "people = [person, student, employee]\n",
        "for person in people:\n",
        "    print(person.introduce())\n",
        "\n",
        "# Output:\n",
        "# Hi, my name is John Doe and I am 30 years old.\n",
        "# Hi, my name is Jane Doe and I am 20 years old. I am a student studying Computer Science.\n",
        "# Hi, my name is Jim Smith and I am 40 years old. I work at Acme Inc."
      ]
    },
    {
      "cell_type": "markdown",
      "source": [
        "### Problem 3\n",
        "\n",
        "- Define two classes, BankAccount and SavingsAccount. The BankAccount class is a basic class for a bank account, it has a attributes : account number and balance, and two methods deposit and withdraw.  The SavingsAccount class inherits from the BankAccount class and adds a new attribute interest_rate and a new method add_interest. The add_interest method calculates the interest based on the balance and interest rate, and then calls the deposit method of the parent class to add the interest to the balance.\n",
        "\n",
        "- Add a method to the SavingsAccount class called check_balance that returns the current balance of the account.\n",
        "\n",
        "- Add a method to the BankAccount class called transfer that allows you to transfer a certain amount from one account to another. The method should take two arguments, the destination_account and the amount. The method should return False if the account does not have enough balance to complete the transfer, and True otherwise.\n",
        "\n",
        "- Create two objects of the SavingsAccount class and transfer money from one account to another using the transfer method."
      ],
      "metadata": {
        "id": "PyMDSJ-eT7Cd"
      }
    },
    {
      "cell_type": "code",
      "source": [
        "class BankAccount:\n",
        "    def __init__(self, account_number, balance):\n",
        "        self.account_number = account_number\n",
        "        self.balance = balance\n",
        "        \n",
        "    def deposit(self, amount):\n",
        "        self.balance += amount\n",
        "        \n",
        "    def withdraw(self, amount):\n",
        "        if self.balance >= amount:\n",
        "            self.balance -= amount\n",
        "            return True\n",
        "        else:\n",
        "            return False\n",
        "    \n",
        "    def transfer(self, destination_account, amount):\n",
        "        if self.balance >= amount:\n",
        "            self.balance -= amount\n",
        "            destination_account.deposit(amount)\n",
        "            return True\n",
        "        else:\n",
        "            return False\n",
        "\n",
        "class SavingsAccount(BankAccount):\n",
        "    def __init__(self, account_number, balance, interest_rate):\n",
        "        BankAccount.__init__(self, account_number, balance)\n",
        "        self.interest_rate = interest_rate\n",
        "        \n",
        "    def add_interest(self):\n",
        "        interest = self.balance * self.interest_rate\n",
        "        self.deposit(interest)\n",
        "        \n",
        "    def check_balance(self):\n",
        "        return self.balance\n",
        "\n",
        "# create two savings accounts\n",
        "savings_account1 = SavingsAccount(account_number=\"12345\", balance=1000, interest_rate=0.05)\n",
        "savings_account2 = SavingsAccount(account_number=\"67890\", balance=500, interest_rate=0.03)\n",
        "\n",
        "# transfer money from one account to another\n",
        "if savings_account1.transfer(destination_account=savings_account2, amount=100):\n",
        "    print(\"Transfer successful\")\n",
        "else:\n",
        "    print(\"Transfer failed\")\n",
        "\n",
        "# check the balance of both accounts\n",
        "print(\"Savings Account 1 Balance:\", savings_account1.check_balance())"
      ],
      "metadata": {
        "id": "cx_yWTSOT7Ub"
      },
      "execution_count": null,
      "outputs": []
    }
  ]
}