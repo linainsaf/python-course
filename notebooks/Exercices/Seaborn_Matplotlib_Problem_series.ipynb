{
  "nbformat": 4,
  "nbformat_minor": 0,
  "metadata": {
    "colab": {
      "provenance": []
    },
    "kernelspec": {
      "name": "python3",
      "display_name": "Python 3"
    },
    "language_info": {
      "name": "python"
    }
  },
  "cells": [
    {
      "cell_type": "code",
      "source": [
        "import matplotlib.pyplot as plt\n",
        "import seaborn as sns\n",
        "import pandas as pd"
      ],
      "metadata": {
        "id": "o2kVcNh5suGq"
      },
      "execution_count": null,
      "outputs": []
    },
    {
      "cell_type": "markdown",
      "source": [
        "1. Load dataset Iris"
      ],
      "metadata": {
        "id": "O-niWZm1sHrQ"
      }
    },
    {
      "cell_type": "code",
      "source": [
        "# load the iris dataset\n",
        "iris = sns.load_dataset('iris')\n",
        "iris.head()"
      ],
      "metadata": {
        "id": "Yz5ervbGsg_p"
      },
      "execution_count": null,
      "outputs": []
    },
    {
      "cell_type": "markdown",
      "source": [
        "2. Plot a histogram of the sepal length of the iris flowers."
      ],
      "metadata": {
        "id": "FeSPElCMLaei"
      }
    },
    {
      "cell_type": "markdown",
      "source": [
        "3. Plot a bar chart of the mean values of each of the four features for each species."
      ],
      "metadata": {
        "id": "sVibTQdsLDwn"
      }
    },
    {
      "cell_type": "markdown",
      "source": [
        "4. Create a scatter plot of the sepal length and width, with different colors for different species."
      ],
      "metadata": {
        "id": "g9eoGCYDLVMC"
      }
    },
    {
      "cell_type": "markdown",
      "source": [
        "5. Create a boxplot of the petal width for each species."
      ],
      "metadata": {
        "id": "C9Q9SAqaLSO_"
      }
    },
    {
      "cell_type": "markdown",
      "source": [
        "6. Create a violin plot of the sepal length, with different colors for different species."
      ],
      "metadata": {
        "id": "CSspFDoSLKG-"
      }
    },
    {
      "cell_type": "markdown",
      "source": [
        "7. Create a violin plot of the sepal  width, with different colors for different species."
      ],
      "metadata": {
        "id": "6rMLyAIYLj0q"
      }
    },
    {
      "cell_type": "markdown",
      "source": [
        "8. Load dataset diamonds"
      ],
      "metadata": {
        "id": "3brSh9QoLmvW"
      }
    },
    {
      "cell_type": "code",
      "source": [
        "diamonds = sns.load_dataset('diamonds')\n",
        "diamonds.head()"
      ],
      "metadata": {
        "id": "bPGOz6N9slKg"
      },
      "execution_count": 1,
      "outputs": []
    },
    {
      "cell_type": "markdown",
      "source": [
        "9. Create a scatter plot with x-axis as 'carat' and y-axis as 'price' from the diamonds dataset."
      ],
      "metadata": {
        "id": "gVsyN1oZLpYY"
      }
    },
    {
      "cell_type": "markdown",
      "source": [
        "10. Create a histogram of the 'price' column with 30 bins. Add a line that represents the mean price in red."
      ],
      "metadata": {
        "id": "hdMPaVlnMN2y"
      }
    },
    {
      "cell_type": "markdown",
      "source": [
        "11. Create a bar plot of the count of diamonds for each 'cut' category."
      ],
      "metadata": {
        "id": "RC7T2x9_MGUD"
      }
    },
    {
      "cell_type": "markdown",
      "source": [
        "12. Create a box plot of the 'price' column for each 'cut' category."
      ],
      "metadata": {
        "id": "_TXS1hjpMlRn"
      }
    },
    {
      "cell_type": "markdown",
      "source": [
        "13. Create a heat map using seaborn to show the correlation between all numeric columns in the diamonds dataset."
      ],
      "metadata": {
        "id": "YNJOugHgNHTT"
      }
    },
    {
      "cell_type": "markdown",
      "source": [
        "14. Create a line plot of the average 'price' per 'carat' for each 'cut' category."
      ],
      "metadata": {
        "id": "1UHpK-bTMwH0"
      }
    },
    {
      "cell_type": "markdown",
      "source": [
        "15. Create a stacked bar chart of the count of diamonds by cut and color."
      ],
      "metadata": {
        "id": "g_JV_9S0NJkC"
      }
    },
    {
      "cell_type": "markdown",
      "source": [
        "16. Create a histogram of the carat weight distribution of diamonds with different color grades."
      ],
      "metadata": {
        "id": "twXfff-2Mz-9"
      }
    },
    {
      "cell_type": "code",
      "source": [],
      "metadata": {
        "id": "VvjvJbRfsdmN"
      },
      "execution_count": null,
      "outputs": []
    }
  ]
}