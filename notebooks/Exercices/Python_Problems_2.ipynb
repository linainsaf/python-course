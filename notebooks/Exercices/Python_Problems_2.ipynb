{
  "nbformat": 4,
  "nbformat_minor": 0,
  "metadata": {
    "colab": {
      "provenance": []
    },
    "kernelspec": {
      "name": "python3",
      "display_name": "Python 3"
    },
    "language_info": {
      "name": "python"
    }
  },
  "cells": [
    {
      "cell_type": "markdown",
      "source": [
        "Let's reinforce the concepts we've learnt"
      ],
      "metadata": {
        "id": "l3RGTWa9rlKG"
      }
    },
    {
      "cell_type": "markdown",
      "source": [
        "### Problem 1\n",
        "Write a function to calculate the factorial of a number."
      ],
      "metadata": {
        "id": "fGc6hfgWg8S4"
      }
    },
    {
      "cell_type": "code",
      "execution_count": null,
      "metadata": {
        "id": "xh10KMV37Zac",
        "colab": {
          "base_uri": "https://localhost:8080/"
        },
        "outputId": "d2303cb8-a1e2-46c8-e0aa-70df85ed5105"
      },
      "outputs": [
        {
          "output_type": "stream",
          "name": "stdout",
          "text": [
            "1\n"
          ]
        }
      ],
      "source": [
        "def factorial(n):\n",
        "  if n == 0 : \n",
        "    return 1\n",
        "  else :\n",
        "    result = n * factorial(n-1)\n",
        "  return result\n",
        "\n",
        "print(factorial(1)) # Output: 120"
      ]
    },
    {
      "cell_type": "code",
      "source": [
        "#n = 3\n",
        "#result = 3*2!\n",
        "#2! = 2 * 1!\n",
        "#1! = 1* 0!\n",
        "1*1*2*3 "
      ],
      "metadata": {
        "colab": {
          "base_uri": "https://localhost:8080/"
        },
        "id": "kStZLWlMuvgy",
        "outputId": "eb789e62-e7a9-4d28-be05-a2d65c36a06a"
      },
      "execution_count": null,
      "outputs": [
        {
          "output_type": "execute_result",
          "data": {
            "text/plain": [
              "6"
            ]
          },
          "metadata": {},
          "execution_count": 3
        }
      ]
    },
    {
      "cell_type": "code",
      "source": [
        "0! = 1\n",
        "1! = 1\n",
        "5! = 5*4*3*2*1 \n",
        "6! = 6*5*4*3*2*1  = n* (n-1)!"
      ],
      "metadata": {
        "id": "0q-f_k7CtIrE"
      },
      "execution_count": null,
      "outputs": []
    },
    {
      "cell_type": "markdown",
      "source": [
        "### Problem 2\n",
        "\n",
        "Write a function that takes two lists and returns True if they have at least one common member."
      ],
      "metadata": {
        "id": "spJUDfWxg-hW"
      }
    },
    {
      "cell_type": "code",
      "source": [
        "def common_member(a, b):\n",
        "    for item in a: \n",
        "      if item in b :\n",
        "        return True\n",
        "    return False\n",
        "\n",
        "def common_member_2(a, b):\n",
        "    for item1 in a: \n",
        "      for item2 in b :\n",
        "        print(item1,item2)\n",
        "        if item1 == item2:\n",
        "          return True\n",
        "    return False\n",
        "\n",
        "def common_member_3(a, b):\n",
        "  print(set(a),set(b))\n",
        "  intersection = set(a) & set(b)\n",
        "  return bool(intersection)\n",
        "\n",
        "a = [1, 2, 2, 3, 4, 5]\n",
        "b = [5, 6, 7, 8, 9]\n",
        "print(common_member_3(a, b)) # Output: True"
      ],
      "metadata": {
        "id": "LAXo2s6Wg90g",
        "colab": {
          "base_uri": "https://localhost:8080/"
        },
        "outputId": "edee9fde-439b-4a09-8d7f-5fd5c43f85b2"
      },
      "execution_count": null,
      "outputs": [
        {
          "output_type": "stream",
          "name": "stdout",
          "text": [
            "{1, 2, 3, 4, 5} {5, 6, 7, 8, 9}\n",
            "True\n"
          ]
        }
      ]
    },
    {
      "cell_type": "code",
      "source": [
        "j = \"linna\".replace(\"n\", \"m\")\n",
        "b = j[:2] + \"m\" + j[3:]\n",
        "j"
      ],
      "metadata": {
        "colab": {
          "base_uri": "https://localhost:8080/",
          "height": 35
        },
        "id": "6KEcwOob0qZi",
        "outputId": "9484cd7a-7222-42b6-8e48-d16bc5a7738e"
      },
      "execution_count": null,
      "outputs": [
        {
          "output_type": "execute_result",
          "data": {
            "text/plain": [
              "'limma'"
            ],
            "application/vnd.google.colaboratory.intrinsic+json": {
              "type": "string"
            }
          },
          "metadata": {},
          "execution_count": 29
        }
      ]
    },
    {
      "cell_type": "markdown",
      "source": [
        "### Problem 3\n",
        "\n",
        "Write a function that takes a string and returns the first non-repeated character in the string."
      ],
      "metadata": {
        "id": "L9eJRt8Gg-26"
      }
    },
    {
      "cell_type": "code",
      "source": [
        "def first_non_repeated_character(string):\n",
        "    output = []\n",
        "    for char in string:\n",
        "      if string.count(char) == 1:\n",
        "        output.append(char)\n",
        "    return output\n",
        "\n",
        "    \n",
        "string = 'abcdefghijklmnopqrstuvwxyzcdefghijklmnopqrstuvwxyz'\n",
        "print(first_non_repeated_character(string)) # Output: 'a'\n"
      ],
      "metadata": {
        "colab": {
          "base_uri": "https://localhost:8080/"
        },
        "id": "GwPmCaCpg9x3",
        "outputId": "35cb7919-2351-4f78-f937-578abf1e32a6"
      },
      "execution_count": null,
      "outputs": [
        {
          "output_type": "stream",
          "name": "stdout",
          "text": [
            "['a', 'b']\n"
          ]
        }
      ]
    },
    {
      "cell_type": "markdown",
      "source": [
        "### Problem 4\n",
        "\n",
        "Write a Python function that takes two strings and returns True if the first string is a substring of the second string, and False otherwise."
      ],
      "metadata": {
        "id": "3nXYZ-PFj-GE"
      }
    },
    {
      "cell_type": "code",
      "source": [
        "def is_substring(s1, s2):\n",
        "\n",
        "      return s1 in s2\n",
        "\n",
        "print(is_substring(\"hl\", \"hello world\"))"
      ],
      "metadata": {
        "id": "tiaxoj4sg9sa",
        "colab": {
          "base_uri": "https://localhost:8080/"
        },
        "outputId": "4c64ef09-7cf7-4734-e44b-25b25859da5f"
      },
      "execution_count": null,
      "outputs": [
        {
          "output_type": "stream",
          "name": "stdout",
          "text": [
            "False\n"
          ]
        }
      ]
    },
    {
      "cell_type": "markdown",
      "source": [
        "### Problem 5\n",
        "\n",
        "Write a Python program to find the sum of the digits of a number."
      ],
      "metadata": {
        "id": "mzXxJiPdl6La"
      }
    },
    {
      "cell_type": "code",
      "source": [
        "def sum_of_digits(number):\n",
        "   sum = 0\n",
        "   for char in str(number) :\n",
        "     sum = sum + int(char)\n",
        "   return sum\n",
        "\n",
        "print(sum_of_digits(1234))"
      ],
      "metadata": {
        "id": "_pdbo5U5g9py",
        "colab": {
          "base_uri": "https://localhost:8080/"
        },
        "outputId": "ebccc547-0646-412e-b26a-951b4c2ffbf9"
      },
      "execution_count": null,
      "outputs": [
        {
          "output_type": "stream",
          "name": "stdout",
          "text": [
            "10\n"
          ]
        }
      ]
    },
    {
      "cell_type": "markdown",
      "source": [
        "### Problem 6\n",
        "\n",
        "Write a Python program to find the longest word in a list of words."
      ],
      "metadata": {
        "id": "JEYg2AUMmGIL"
      }
    },
    {
      "cell_type": "code",
      "source": [
        "def find_longest_word(words):\n",
        "  longest_words = []\n",
        "  longest_word = \"\"\n",
        "  for word in words :\n",
        "    if len(word) > len(longest_word) :\n",
        "      longest_word = word\n",
        "      longest_length = len(word)\n",
        "      longest_words.append(word) \n",
        "  return longest_words\n",
        "\n",
        "print(find_longest_word([\"apple\", \"banana\", \"cherry\"]))"
      ],
      "metadata": {
        "id": "CMR7pJstg9m-",
        "colab": {
          "base_uri": "https://localhost:8080/"
        },
        "outputId": "60fcd369-a493-479f-8461-7aad886469cd"
      },
      "execution_count": null,
      "outputs": [
        {
          "output_type": "stream",
          "name": "stdout",
          "text": [
            "['apple', 'banana', 'cherry']\n"
          ]
        }
      ]
    },
    {
      "cell_type": "markdown",
      "source": [
        "### Problem 7\n",
        "\n",
        "Write a Python program to sort a list of dictionaries by a given key."
      ],
      "metadata": {
        "id": "5EJP_HkfmpdA"
      }
    },
    {
      "cell_type": "code",
      "source": [
        "def sort_dict_list(dict_list, key):\n",
        "  \n",
        "    return \n",
        "\n",
        "dict_list = [{\"name\": \"John\", \"age\": 25}, {\"name\": \"Jane\", \"age\": 22}, {\"name\": \"Jim\", \"age\": 30}]\n",
        "print(sort_dict_list(dict_list, \"age\"))"
      ],
      "metadata": {
        "id": "x6ymqtCYmh2q"
      },
      "execution_count": null,
      "outputs": []
    },
    {
      "cell_type": "markdown",
      "source": [
        "### Problem 8\n",
        "\n",
        "Write a Python program to find the frequency of each word in a string."
      ],
      "metadata": {
        "id": "QPyB2QXGmv_M"
      }
    },
    {
      "cell_type": "code",
      "source": [
        "def word_frequency(string):\n",
        "    \n",
        "    return \n",
        "  \n",
        "\n",
        "string = \"the quick brown fox jumps over the lazy dog\"\n",
        "print(word_frequency(string))"
      ],
      "metadata": {
        "colab": {
          "base_uri": "https://localhost:8080/"
        },
        "id": "VEuDauyzmwjU",
        "outputId": "0a93f7b0-9633-4d1f-e162-ee655d096b11"
      },
      "execution_count": null,
      "outputs": [
        {
          "output_type": "stream",
          "name": "stdout",
          "text": [
            "{'the': 2, 'quick': 1, 'brown': 1, 'fox': 1, 'jumps': 1, 'over': 1, 'lazy': 1, 'dog': 1}\n"
          ]
        }
      ]
    },
    {
      "cell_type": "markdown",
      "source": [
        "### Problem 9\n",
        "\n",
        "Write a Python program to find the prime numbers in a given range."
      ],
      "metadata": {
        "id": "sc_U5CjanMMW"
      }
    },
    {
      "cell_type": "code",
      "source": [
        "def prime_numbers(start, end):\n",
        "  \n",
        "    return\n",
        "\n",
        "print(prime_numbers(2, 20))\n"
      ],
      "metadata": {
        "id": "nvmeIsL0mzsA"
      },
      "execution_count": null,
      "outputs": []
    },
    {
      "cell_type": "markdown",
      "source": [
        "### Problem 10\n",
        "\n",
        "Write a Python program to find the longest word in a given sentence."
      ],
      "metadata": {
        "id": "k5IJhfUfnv1k"
      }
    },
    {
      "cell_type": "code",
      "source": [
        "def longest_word(sentence):\n",
        "    \n",
        "    return \n",
        "\n",
        "sentence = \"The quick brown fox jumps over the lazy dog\"\n",
        "print(longest_word(sentence))"
      ],
      "metadata": {
        "id": "8akmyxf0nwhV"
      },
      "execution_count": null,
      "outputs": []
    },
    {
      "cell_type": "markdown",
      "source": [
        "### Problem 11\n",
        "\n",
        "Write a Python program to calculate the moving average of a list of numbers."
      ],
      "metadata": {
        "id": "G3dDDNtNn9EL"
      }
    },
    {
      "cell_type": "code",
      "source": [
        "def moving_average(numbers, window_size):\n",
        "\n",
        "    return \n",
        "\n",
        "numbers = [1, 2, 3, 4, 5, 6, 7, 8, 9, 10]\n",
        "print(moving_average(numbers, 3))"
      ],
      "metadata": {
        "id": "vXHN4TPjn8vi"
      },
      "execution_count": null,
      "outputs": []
    },
    {
      "cell_type": "markdown",
      "source": [
        "### Problem 12\n",
        "\n",
        "Write a Python program to find all the pairs of two integers in a given list whose sum is equal to a given target number."
      ],
      "metadata": {
        "id": "vTyoZFf_n9e_"
      }
    },
    {
      "cell_type": "code",
      "source": [
        "def find_pairs(numbers, target):\n",
        "    \n",
        "    return \n",
        "\n",
        "numbers = [1, 2, 3, 4, 5, 6, 7, 8, 9, 10]\n",
        "print(find_pairs(numbers, 10))"
      ],
      "metadata": {
        "id": "BGUUC-4pn8s_"
      },
      "execution_count": null,
      "outputs": []
    }
  ]
}