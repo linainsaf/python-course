{
  "nbformat": 4,
  "nbformat_minor": 0,
  "metadata": {
    "colab": {
      "provenance": []
    },
    "kernelspec": {
      "name": "python3",
      "display_name": "Python 3"
    },
    "language_info": {
      "name": "python"
    }
  },
  "cells": [
    {
      "cell_type": "markdown",
      "metadata": {
        "id": "d4Sa08RvX5mL"
      },
      "source": [
        "# Data Cleaning and Analysis with Pandas\n",
        "\n",
        "A large food group wants to buy a local fast food restaurant, but before investing, it would like to analyze its data."
      ]
    },
    {
      "cell_type": "markdown",
      "metadata": {
        "id": "rdtd51NRX5mO"
      },
      "source": [
        "### Import the library Pandas and the dataset`food.csv`"
      ]
    },
    {
      "cell_type": "markdown",
      "source": [
        "### Data exploration and cleaning"
      ],
      "metadata": {
        "id": "Kh8IaC0Xa-o-"
      }
    },
    {
      "cell_type": "markdown",
      "metadata": {
        "id": "gqzaS0F9X5mP"
      },
      "source": [
        "####  Display the first 5 lines of the dataset."
      ]
    },
    {
      "cell_type": "markdown",
      "source": [
        "####  Display the last 5 lines of the dataset."
      ],
      "metadata": {
        "id": "jvFrPWVIZetq"
      }
    },
    {
      "cell_type": "markdown",
      "metadata": {
        "id": "TM3PkjlIX5mP"
      },
      "source": [
        "#### Display the columns of your dataset"
      ]
    },
    {
      "cell_type": "markdown",
      "source": [
        "#### Check if there is nans or duplicates in your dataset"
      ],
      "metadata": {
        "id": "AaXO81BAa7uC"
      }
    },
    {
      "cell_type": "markdown",
      "source": [
        "#### Fill your nans with \"Not specified\""
      ],
      "metadata": {
        "id": "RoPhP_DNbtHR"
      }
    },
    {
      "cell_type": "markdown",
      "source": [
        "#### Check the type of your columns"
      ],
      "metadata": {
        "id": "OryTFOHycaTz"
      }
    },
    {
      "cell_type": "markdown",
      "source": [
        "#### Replace the total_price format to float"
      ],
      "metadata": {
        "id": "kv6CT0HAcT8V"
      }
    },
    {
      "cell_type": "markdown",
      "source": [
        "#### Create a new column to get the price by one unique item "
      ],
      "metadata": {
        "id": "_9UA0_HTfIsC"
      }
    },
    {
      "cell_type": "markdown",
      "source": [
        "### Data Analysis"
      ],
      "metadata": {
        "id": "zdD_2EGFdAzN"
      }
    },
    {
      "cell_type": "markdown",
      "metadata": {
        "id": "TQpKBwCfX5mQ"
      },
      "source": [
        "#### Display the statistical description of the dataset"
      ]
    },
    {
      "cell_type": "markdown",
      "metadata": {
        "id": "LrX651vgX5mQ"
      },
      "source": [
        "#### Display the 10 most ordered items. Hint : Use the method groupby"
      ]
    },
    {
      "cell_type": "markdown",
      "metadata": {
        "id": "D3V-TAM9X5mR"
      },
      "source": [
        "#### Display the total number of items ordered"
      ]
    },
    {
      "cell_type": "markdown",
      "metadata": {
        "id": "X0RTqzKGX5mR"
      },
      "source": [
        "####  Display the company's total revenue"
      ]
    },
    {
      "cell_type": "markdown",
      "metadata": {
        "id": "46DbuGH1X5mR"
      },
      "source": [
        "#### Display the average revenue per order"
      ]
    },
    {
      "cell_type": "markdown",
      "metadata": {
        "id": "062K35aIX5mS"
      },
      "source": [
        "### Drop the column `Unnamed: 0` and `Unnamed: 0.1`\t"
      ]
    },
    {
      "cell_type": "markdown",
      "metadata": {
        "id": "iBDd-kpLX5mS"
      },
      "source": [
        "### Save your new Dataframe into a new CSV file"
      ]
    }
  ]
}