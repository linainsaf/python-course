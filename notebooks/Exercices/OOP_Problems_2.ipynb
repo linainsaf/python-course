{
  "nbformat": 4,
  "nbformat_minor": 0,
  "metadata": {
    "colab": {
      "provenance": []
    },
    "kernelspec": {
      "name": "python3",
      "display_name": "Python 3"
    },
    "language_info": {
      "name": "python"
    }
  },
  "cells": [
    {
      "cell_type": "markdown",
      "source": [
        "## Operator overloading\n",
        "### Problem 1\n",
        "Implement a complex number class. Overload the addition and subtraction operators to add and subtract two complex numbers."
      ],
      "metadata": {
        "id": "tDUtUIWQT5ef"
      }
    },
    {
      "cell_type": "markdown",
      "source": [
        "## Operator overloading\n",
        "### Problem 1\n",
        "Implement a complex number class. Overload the addition and subtraction operators to add and subtract two complex numbers."
      ],
      "metadata": {
        "id": "oCthgwA2stt-"
      }
    },
    {
      "cell_type": "markdown",
      "source": [
        "### Problem 2\n",
        "\n",
        "Create a class Person with name, age and gender as its attributes. Overload the > operator to compare two persons based on their age, such that p1 > p2 returns True if the age of p1 is greater than p2 and False otherwise."
      ],
      "metadata": {
        "id": "by9-uYLQstuE"
      }
    },
    {
      "cell_type": "markdown",
      "source": [
        "### Problem 4\n",
        "Create a class Vector that represents a vector in space, with x, y, and z as its attributes. Overload the * operator to return the dot product of two vectors, such that vector1 * vector2 returns the dot product of the two input vectors.\n"
      ],
      "metadata": {
        "id": "iJje6xpDstuF"
      }
    },
    {
      "cell_type": "markdown",
      "source": [
        "### Problem 5\n",
        "\n",
        "Overloading comparison operator for two circles (<, >, ==, !=, >=, <=)"
      ],
      "metadata": {
        "id": "nvvG2gE1stuF"
      }
    },
    {
      "cell_type": "markdown",
      "source": [
        "### Problem 6\n",
        "\n",
        "Implement a 2D point class. Overload the comparison operators to compare two points based on their Euclidean distance from the origin. Euclidean distance = sqrt(x^2 + y^2)"
      ],
      "metadata": {
        "id": "0IvpJDcsstuF"
      }
    },
    {
      "cell_type": "markdown",
      "source": [
        "### Problem 7\n",
        "Overloading multiplication operator for two matrices"
      ],
      "metadata": {
        "id": "xD4stjpkstuF"
      }
    },
    {
      "cell_type": "markdown",
      "source": [
        "## Inheritance"
      ],
      "metadata": {
        "id": "zsAGP1SlstuF"
      }
    },
    {
      "cell_type": "markdown",
      "source": [
        "### Problem 1\n",
        "Create a class Vehicle that has a method drive that returns the string \"Driving a vehicle\". Create two subclasses, Car and Bicycle, that override this method to return \"Driving a car\" and \"Riding a bicycle\", respectively."
      ],
      "metadata": {
        "id": "cMw90AS6stuF"
      }
    },
    {
      "cell_type": "markdown",
      "source": [
        "### Problem 2\n",
        "- Create a Class Person with attributes : name, age, address and method : introduce\n",
        "\n",
        "- Create a subclass Student of the class Person  that has an attribute : field_of_study a personalized method : introduce\n",
        "\n",
        "- Create another subclass Employee of the class Person that has an attribute : company a personalized method : introduce\n",
        "\n",
        "- Test your classes"
      ],
      "metadata": {
        "id": "ceEExTk3stuF"
      }
    },
    {
      "cell_type": "markdown",
      "source": [
        "### Problem 3\n",
        "\n",
        "- Define two classes, BankAccount and SavingsAccount. The BankAccount class is a basic class for a bank account, it has a attributes : account number and balance, and two methods deposit and withdraw.  The SavingsAccount class inherits from the BankAccount class and adds a new attribute interest_rate and a new method add_interest. The add_interest method calculates the interest based on the balance and interest rate, and then calls the deposit method of the parent class to add the interest to the balance.\n",
        "\n",
        "- Add a method to the SavingsAccount class called check_balance that returns the current balance of the account.\n",
        "\n",
        "- Add a method to the BankAccount class called transfer that allows you to transfer a certain amount from one account to another. The method should take two arguments, the destination_account and the amount. The method should return False if the account does not have enough balance to complete the transfer, and True otherwise.\n",
        "\n",
        "- Create two objects of the SavingsAccount class and transfer money from one account to another using the transfer method."
      ],
      "metadata": {
        "id": "R4T24R_1stuF"
      }
    },
    {
      "cell_type": "markdown",
      "source": [
        "## Operator overloading\n",
        "### Problem 1\n",
        "Implement a complex number class. Overload the addition and subtraction operators to add and subtract two complex numbers."
      ],
      "metadata": {
        "id": "J11W-P7Gsvum"
      }
    },
    {
      "cell_type": "markdown",
      "source": [
        "### Problem 2\n",
        "\n",
        "Create a class Person with name, age and gender as its attributes. Overload the > operator to compare two persons based on their age, such that p1 > p2 returns True if the age of p1 is greater than p2 and False otherwise."
      ],
      "metadata": {
        "id": "iDRFhMbIsvun"
      }
    },
    {
      "cell_type": "markdown",
      "source": [
        "### Problem 4\n",
        "Create a class Vector that represents a vector in space, with x, y, and z as its attributes. Overload the * operator to return the dot product of two vectors, such that vector1 * vector2 returns the dot product of the two input vectors.\n"
      ],
      "metadata": {
        "id": "ulrS8j00svun"
      }
    },
    {
      "cell_type": "markdown",
      "source": [
        "### Problem 5\n",
        "\n",
        "Overloading comparison operator for two circles (<, >, ==, !=, >=, <=)"
      ],
      "metadata": {
        "id": "MFwV4ZFLsvun"
      }
    },
    {
      "cell_type": "markdown",
      "source": [
        "### Problem 6\n",
        "\n",
        "Implement a 2D point class. Overload the comparison operators to compare two points based on their Euclidean distance from the origin. Euclidean distance = sqrt(x^2 + y^2)"
      ],
      "metadata": {
        "id": "xDvf0tabsvuo"
      }
    },
    {
      "cell_type": "markdown",
      "source": [
        "### Problem 7\n",
        "Overloading multiplication operator for two matrices"
      ],
      "metadata": {
        "id": "x00rdk1Lsvuo"
      }
    },
    {
      "cell_type": "markdown",
      "source": [
        "## Inheritance"
      ],
      "metadata": {
        "id": "hftb3N9Dsvuo"
      }
    },
    {
      "cell_type": "markdown",
      "source": [
        "### Problem 1\n",
        "Create a class Vehicle that has a method drive that returns the string \"Driving a vehicle\". Create two subclasses, Car and Bicycle, that override this method to return \"Driving a car\" and \"Riding a bicycle\", respectively."
      ],
      "metadata": {
        "id": "5n9aFqfSsvup"
      }
    },
    {
      "cell_type": "markdown",
      "source": [
        "### Problem 2\n",
        "- Create a Class Person with attributes : name, age, address and method : introduce\n",
        "\n",
        "- Create a subclass Student of the class Person  that has an attribute : field_of_study a personalized method : introduce\n",
        "\n",
        "- Create another subclass Employee of the class Person that has an attribute : company a personalized method : introduce\n",
        "\n",
        "- Test your classes"
      ],
      "metadata": {
        "id": "iW8OPHiUsvup"
      }
    },
    {
      "cell_type": "markdown",
      "source": [
        "### Problem 3\n",
        "\n",
        "- Define two classes, BankAccount and SavingsAccount. The BankAccount class is a basic class for a bank account, it has a attributes : account number and balance, and two methods deposit and withdraw.  The SavingsAccount class inherits from the BankAccount class and adds a new attribute interest_rate and a new method add_interest. The add_interest method calculates the interest based on the balance and interest rate, and then calls the deposit method of the parent class to add the interest to the balance.\n",
        "\n",
        "- Add a method to the SavingsAccount class called check_balance that returns the current balance of the account.\n",
        "\n",
        "- Add a method to the BankAccount class called transfer that allows you to transfer a certain amount from one account to another. The method should take two arguments, the destination_account and the amount. The method should return False if the account does not have enough balance to complete the transfer, and True otherwise.\n",
        "\n",
        "- Create two objects of the SavingsAccount class and transfer money from one account to another using the transfer method."
      ],
      "metadata": {
        "id": "7SARoJb0svup"
      }
    },
    {
      "cell_type": "markdown",
      "source": [
        "## Operator overloading\n",
        "### Problem 1\n",
        "Implement a complex number class. Overload the addition and subtraction operators to add and subtract two complex numbers."
      ],
      "metadata": {
        "id": "e4gQZ1hGszeR"
      }
    },
    {
      "cell_type": "markdown",
      "source": [
        "### Problem 2\n",
        "\n",
        "Create a class Person with name, age and gender as its attributes. Overload the > operator to compare two persons based on their age, such that p1 > p2 returns True if the age of p1 is greater than p2 and False otherwise."
      ],
      "metadata": {
        "id": "0i_pDMo2szeS"
      }
    },
    {
      "cell_type": "markdown",
      "source": [
        "### Problem 4\n",
        "Create a class Vector that represents a vector in space, with x, y, and z as its attributes. Overload the * operator to return the dot product of two vectors, such that vector1 * vector2 returns the dot product of the two input vectors.\n"
      ],
      "metadata": {
        "id": "xbjwyjnTszeS"
      }
    },
    {
      "cell_type": "markdown",
      "source": [
        "### Problem 5\n",
        "\n",
        "Overloading comparison operator for two circles (<, >, ==, !=, >=, <=)"
      ],
      "metadata": {
        "id": "vXEpqj1-szeS"
      }
    },
    {
      "cell_type": "markdown",
      "source": [
        "### Problem 6\n",
        "\n",
        "Implement a 2D point class. Overload the comparison operators to compare two points based on their Euclidean distance from the origin. Euclidean distance = sqrt(x^2 + y^2)"
      ],
      "metadata": {
        "id": "JJWU4bUSszeS"
      }
    },
    {
      "cell_type": "markdown",
      "source": [
        "### Problem 7\n",
        "Overloading multiplication operator for two matrices"
      ],
      "metadata": {
        "id": "WinAg4feszeS"
      }
    },
    {
      "cell_type": "markdown",
      "source": [
        "## Inheritance"
      ],
      "metadata": {
        "id": "mZHDZufkszeS"
      }
    },
    {
      "cell_type": "markdown",
      "source": [
        "### Problem 1\n",
        "Create a class Vehicle that has a method drive that returns the string \"Driving a vehicle\". Create two subclasses, Car and Bicycle, that override this method to return \"Driving a car\" and \"Riding a bicycle\", respectively."
      ],
      "metadata": {
        "id": "cyFG6CaEszeS"
      }
    },
    {
      "cell_type": "markdown",
      "source": [
        "### Problem 2\n",
        "- Create a Class Person with attributes : name, age, address and method : introduce\n",
        "\n",
        "- Create a subclass Student of the class Person  that has an attribute : field_of_study a personalized method : introduce\n",
        "\n",
        "- Create another subclass Employee of the class Person that has an attribute : company a personalized method : introduce\n",
        "\n",
        "- Test your classes"
      ],
      "metadata": {
        "id": "pqicysiXszeT"
      }
    },
    {
      "cell_type": "markdown",
      "source": [
        "### Problem 3\n",
        "\n",
        "- Define two classes, BankAccount and SavingsAccount. The BankAccount class is a basic class for a bank account, it has a attributes : account number and balance, and two methods deposit and withdraw.  The SavingsAccount class inherits from the BankAccount class and adds a new attribute interest_rate and a new method add_interest. The add_interest method calculates the interest based on the balance and interest rate, and then calls the deposit method of the parent class to add the interest to the balance.\n",
        "\n",
        "- Add a method to the SavingsAccount class called check_balance that returns the current balance of the account.\n",
        "\n",
        "- Add a method to the BankAccount class called transfer that allows you to transfer a certain amount from one account to another. The method should take two arguments, the destination_account and the amount. The method should return False if the account does not have enough balance to complete the transfer, and True otherwise.\n",
        "\n",
        "- Create two objects of the SavingsAccount class and transfer money from one account to another using the transfer method."
      ],
      "metadata": {
        "id": "9Kv5Un3BszeT"
      }
    },
    {
      "cell_type": "markdown",
      "source": [
        "### Problem 2\n",
        "\n",
        "Create a class Person with name, age and gender as its attributes. Overload the > operator to compare two persons based on their age, such that p1 > p2 returns True if the age of p1 is greater than p2 and False otherwise."
      ],
      "metadata": {
        "id": "3MIVTBb7dzcG"
      }
    },
    {
      "cell_type": "markdown",
      "source": [
        "### Problem 4\n",
        "Create a class Vector that represents a vector in space, with x, y, and z as its attributes. Overload the * operator to return the dot product of two vectors, such that vector1 * vector2 returns the dot product of the two input vectors.\n"
      ],
      "metadata": {
        "id": "tL7S7qTreEe6"
      }
    },
    {
      "cell_type": "markdown",
      "source": [
        "### Problem 5\n",
        "\n",
        "Overloading comparison operator for two circles (<, >, ==, !=, >=, <=)"
      ],
      "metadata": {
        "id": "oDt1ZOsQbv7_"
      }
    },
    {
      "cell_type": "markdown",
      "source": [
        "### Problem 6\n",
        "\n",
        "Implement a 2D point class. Overload the comparison operators to compare two points based on their Euclidean distance from the origin. Euclidean distance = sqrt(x^2 + y^2)"
      ],
      "metadata": {
        "id": "ctnQw6urcM2Y"
      }
    },
    {
      "cell_type": "markdown",
      "source": [
        "### Problem 7\n",
        "Overloading multiplication operator for two matrices"
      ],
      "metadata": {
        "id": "tEZ_ZdVKcBTn"
      }
    },
    {
      "cell_type": "markdown",
      "source": [
        "## Inheritance"
      ],
      "metadata": {
        "id": "QkKhkdTHesrr"
      }
    },
    {
      "cell_type": "markdown",
      "source": [
        "### Problem 1\n",
        "Create a class Vehicle that has a method drive that returns the string \"Driving a vehicle\". Create two subclasses, Car and Bicycle, that override this method to return \"Driving a car\" and \"Riding a bicycle\", respectively."
      ],
      "metadata": {
        "id": "NJsNxsw8T6hp"
      }
    },
    {
      "cell_type": "markdown",
      "source": [
        "### Problem 2\n",
        "- Create a Class Person with attributes : name, age, address and method : introduce\n",
        "\n",
        "- Create a subclass Student of the class Person  that has an attribute : field_of_study a personalized method : introduce\n",
        "\n",
        "- Create another subclass Employee of the class Person that has an attribute : company a personalized method : introduce\n",
        "\n",
        "- Test your classes"
      ],
      "metadata": {
        "id": "sJlZr3WHhZ2C"
      }
    },
    {
      "cell_type": "markdown",
      "source": [
        "### Problem 3\n",
        "\n",
        "- Define two classes, BankAccount and SavingsAccount. The BankAccount class is a basic class for a bank account, it has a attributes : account number and balance, and two methods deposit and withdraw.  The SavingsAccount class inherits from the BankAccount class and adds a new attribute interest_rate and a new method add_interest. The add_interest method calculates the interest based on the balance and interest rate, and then calls the deposit method of the parent class to add the interest to the balance.\n",
        "\n",
        "- Add a method to the SavingsAccount class called check_balance that returns the current balance of the account.\n",
        "\n",
        "- Add a method to the BankAccount class called transfer that allows you to transfer a certain amount from one account to another. The method should take two arguments, the destination_account and the amount. The method should return False if the account does not have enough balance to complete the transfer, and True otherwise.\n",
        "\n",
        "- Create two objects of the SavingsAccount class and transfer money from one account to another using the transfer method."
      ],
      "metadata": {
        "id": "PyMDSJ-eT7Cd"
      }
    }
  ]
}