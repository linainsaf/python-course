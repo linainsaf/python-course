{
  "nbformat": 4,
  "nbformat_minor": 0,
  "metadata": {
    "colab": {
      "provenance": []
    },
    "kernelspec": {
      "name": "python3",
      "display_name": "Python 3"
    },
    "language_info": {
      "name": "python"
    }
  },
  "cells": [
    {
      "cell_type": "markdown",
      "source": [
        "### Let's solve some problems using python"
      ],
      "metadata": {
        "id": "xTRWGqabznH4"
      }
    },
    {
      "cell_type": "markdown",
      "source": [
        "#### Problem 1 \n",
        "\n",
        "Write a Python function that takes a list of numbers as an argument and returns the largest number in the list."
      ],
      "metadata": {
        "id": "OPCBwZq8pJ1t"
      }
    },
    {
      "cell_type": "code",
      "source": [
        "def find_largest(nums):\n",
        "    ## write here\n",
        "\n",
        "    \n",
        "    return \n",
        "\n",
        "numbers = [3, 5, 2, 8, 4]\n",
        "print(find_largest(numbers)) # Output: 8"
      ],
      "metadata": {
        "colab": {
          "base_uri": "https://localhost:8080/"
        },
        "id": "v6XzkuOFpBDl",
        "outputId": "7f330485-c8aa-4ab2-89ea-b5b13f2fb4b3"
      },
      "execution_count": 2,
      "outputs": [
        {
          "output_type": "stream",
          "name": "stdout",
          "text": [
            "None\n"
          ]
        }
      ]
    },
    {
      "cell_type": "markdown",
      "source": [
        "#### Problem 2\n",
        "\n",
        "Write a Python function that takes a string as an argument and returns the number of vowels in the string."
      ],
      "metadata": {
        "id": "FcGyqrYUpWia"
      }
    },
    {
      "cell_type": "code",
      "source": [
        "def count_vowels(s):\n",
        "    ## write here\n",
        "\n",
        "  \n",
        "    return \n",
        "\n",
        "sentence = \"Hello, World!\"\n",
        "print(count_vowels(sentence)) # Output: 3"
      ],
      "metadata": {
        "colab": {
          "base_uri": "https://localhost:8080/"
        },
        "id": "8ZpPVyeMpBF3",
        "outputId": "bfd88c4f-d4ce-4a83-b9c1-f57c74be1bc4"
      },
      "execution_count": 3,
      "outputs": [
        {
          "output_type": "stream",
          "name": "stdout",
          "text": [
            "None\n"
          ]
        }
      ]
    },
    {
      "cell_type": "markdown",
      "source": [
        "#### Problem 3\n",
        "\n",
        "Write a Python function that takes a list of strings as an argument and returns a list of strings that contains only the even-length strings from the original list."
      ],
      "metadata": {
        "id": "6azHwtX9pXmW"
      }
    },
    {
      "cell_type": "code",
      "source": [
        "def even_length_strings(strings):\n",
        "    ## write here\n",
        "\n",
        "    \n",
        "    return \n",
        "\n",
        "words = ['cat', 'dog', 'bird', 'monkey', 'elephant']\n",
        "print(even_length_strings(words)) # Output: ['bird', 'monkey', 'elephant']"
      ],
      "metadata": {
        "colab": {
          "base_uri": "https://localhost:8080/"
        },
        "id": "ImDaNIlW4MsM",
        "outputId": "3b1841cf-0558-43de-f1a4-b9c70823066c"
      },
      "execution_count": 4,
      "outputs": [
        {
          "output_type": "stream",
          "name": "stdout",
          "text": [
            "None\n"
          ]
        }
      ]
    },
    {
      "cell_type": "markdown",
      "source": [
        "#### Problem 4"
      ],
      "metadata": {
        "id": "2Uqx0otsrtPp"
      }
    },
    {
      "cell_type": "markdown",
      "source": [
        "Write a Python function that takes a list of integers as an argument and returns the sum of the squares of the integers in the list."
      ],
      "metadata": {
        "id": "hYm2H5j-rxhU"
      }
    },
    {
      "cell_type": "code",
      "source": [
        "def sum_of_squares(nums):\n",
        "    ## write here\n",
        "\n",
        "    return \n",
        "\n",
        "numbers = [1, 2, 3, 4, 5]\n",
        "print(sum_of_squares(numbers)) # Output: 55"
      ],
      "metadata": {
        "colab": {
          "base_uri": "https://localhost:8080/"
        },
        "id": "0_nSemQR4Ncn",
        "outputId": "15ba6889-720a-42ab-a3bb-656fe4d34cf1"
      },
      "execution_count": 5,
      "outputs": [
        {
          "output_type": "stream",
          "name": "stdout",
          "text": [
            "None\n"
          ]
        }
      ]
    },
    {
      "cell_type": "markdown",
      "source": [
        "#### Problem 5\n",
        "\n",
        "Palindrome checker: Write a function that takes in a string and returns a Boolean indicating whether the string is a palindrome (a word or phrase that reads the same backwards as forwards).\n"
      ],
      "metadata": {
        "id": "r196AiQ61Vwt"
      }
    },
    {
      "cell_type": "code",
      "source": [
        "def is_palindrome(s):\n",
        "    ## write here\n",
        "\n",
        "    return \n",
        "\n",
        "print(is_palindrome(\"racecar\")) # True\n",
        "print(is_palindrome(\"hello\")) # False"
      ],
      "metadata": {
        "id": "AiDZkVAz4OFw"
      },
      "execution_count": null,
      "outputs": []
    },
    {
      "cell_type": "markdown",
      "source": [
        "#### Problem 6\n",
        "FizzBuzz: Write a program that prints the numbers from 1 to 100. But for multiples of three print \"Fizz\" instead of the number and for the multiples of five print \"Buzz\". For numbers which are multiples of both three and five print \"FizzBuzz\"."
      ],
      "metadata": {
        "id": "0TXzZysA1bBJ"
      }
    },
    {
      "cell_type": "code",
      "source": [
        "## write here"
      ],
      "metadata": {
        "id": "Nz-YBU2D4OtF"
      },
      "execution_count": null,
      "outputs": []
    },
    {
      "cell_type": "markdown",
      "source": [
        "#### Problem 7 \n",
        "\n",
        "Reverse a list: Write a function that takes in a list and returns a new list with the elements in reverse order."
      ],
      "metadata": {
        "id": "esDjCa5B1a-R"
      }
    },
    {
      "cell_type": "code",
      "source": [
        "def reverse_list(lst):\n",
        "    ## write here\n",
        "\n",
        "\n",
        "    return\n",
        "\n",
        "print(reverse_list([1, 2, 3, 4, 5])) # [5, 4, 3, 2, 1]"
      ],
      "metadata": {
        "colab": {
          "base_uri": "https://localhost:8080/"
        },
        "id": "4IaZjSz04PB8",
        "outputId": "cca8c218-22ee-4f58-80b5-d60312541e63"
      },
      "execution_count": 6,
      "outputs": [
        {
          "output_type": "stream",
          "name": "stdout",
          "text": [
            "None\n"
          ]
        }
      ]
    },
    {
      "cell_type": "markdown",
      "source": [
        "#### Problem 8\n",
        "Leap year checker: Write a function that takes in a year and returns a Boolean indicating whether the year is a leap year. A leap year is divisible by 4, but not divisible by 100 unless it is also divisible by 400.\n"
      ],
      "metadata": {
        "id": "1b2Ex_cI1a79"
      }
    },
    {
      "cell_type": "code",
      "source": [
        "def is_leap_year(year):\n",
        "    ## write here\n",
        "\n",
        "\n",
        "    return\n",
        "\n",
        "print(is_leap_year(2000)) # True\n",
        "print(is_leap_year(1900)) # False"
      ],
      "metadata": {
        "colab": {
          "base_uri": "https://localhost:8080/"
        },
        "id": "ionGSWOo4PtL",
        "outputId": "c183d98d-e82f-46d8-a4e6-e7ff8aaa4fd5"
      },
      "execution_count": 7,
      "outputs": [
        {
          "output_type": "stream",
          "name": "stdout",
          "text": [
            "None\n",
            "None\n"
          ]
        }
      ]
    },
    {
      "cell_type": "markdown",
      "source": [
        "#### Problem 9\n",
        "Flatten a nested list: Write a function that takes in a nested list and returns a new list with all the elements flattened."
      ],
      "metadata": {
        "id": "pt47YCvX1a5l"
      }
    },
    {
      "cell_type": "code",
      "source": [
        "def flatten_list(lst):\n",
        "    ## write here\n",
        "\n",
        "    \n",
        "    return \n",
        "\n",
        "print(flatten_list([1, [2, [3, 4], 5]])) # [1, 2, 3, 4, 5]"
      ],
      "metadata": {
        "id": "VqZfGw994QNb"
      },
      "execution_count": null,
      "outputs": []
    },
    {
      "cell_type": "markdown",
      "source": [
        "#### Problem 10\n",
        "\n",
        "Fibonacci Sequence Generator: Write a function that generates the Fibonacci sequence up to a given number of terms. The Fibonacci sequence is a series of numbers in which each number is the sum of the two preceding ones, usually starting with 0 and 1."
      ],
      "metadata": {
        "id": "GJteZg3U67J1"
      }
    },
    {
      "cell_type": "code",
      "source": [
        "def fibonacci(n):\n",
        "    ## write here\n",
        "\n",
        "    return \n",
        "\n",
        "print(fibonacci(10)) # [0, 1, 1, 2, 3, 5, 8, 13, 21, 34]"
      ],
      "metadata": {
        "colab": {
          "base_uri": "https://localhost:8080/"
        },
        "id": "lm2HDiCv63aB",
        "outputId": "1e8266c4-2533-43a0-8ee5-a02d42011bc6"
      },
      "execution_count": 8,
      "outputs": [
        {
          "output_type": "stream",
          "name": "stdout",
          "text": [
            "None\n"
          ]
        }
      ]
    },
    {
      "cell_type": "code",
      "source": [],
      "metadata": {
        "id": "syFNDDbz7U5b"
      },
      "execution_count": null,
      "outputs": []
    }
  ]
}