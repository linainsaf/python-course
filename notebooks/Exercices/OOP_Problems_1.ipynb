{
  "nbformat": 4,
  "nbformat_minor": 0,
  "metadata": {
    "colab": {
      "provenance": []
    },
    "kernelspec": {
      "name": "python3",
      "display_name": "Python 3"
    },
    "language_info": {
      "name": "python"
    }
  },
  "cells": [
    {
      "cell_type": "markdown",
      "source": [
        "### Probelm 1\n",
        "\n",
        "Create a class Rectangle that represents a rectangle. The class should have properties width and height, and a method area that returns the area of the rectangle."
      ],
      "metadata": {
        "id": "nfkCD3f7RdAE"
      }
    },
    {
      "cell_type": "code",
      "source": [],
      "metadata": {
        "id": "IXIGrZaxh34U"
      },
      "execution_count": null,
      "outputs": []
    },
    {
      "cell_type": "markdown",
      "source": [
        "### Probelm 2\n",
        "\n",
        "Create a class Circle with a property radius and a method area that returns the area of the circle."
      ],
      "metadata": {
        "id": "UsbxN38UQsFR"
      }
    },
    {
      "cell_type": "code",
      "source": [],
      "metadata": {
        "id": "6RIQyHJmh3jf"
      },
      "execution_count": null,
      "outputs": []
    },
    {
      "cell_type": "markdown",
      "source": [
        "### Probelm 3\n",
        "\n",
        "Create a class Account that represents a bank account. The class should have a method deposit that allows you to deposit money into the account, and a method withdraw that allows you to withdraw money from the account. The class should also have a property balance that represents the current balance of the account."
      ],
      "metadata": {
        "id": "1YPTQk3DRVyH"
      }
    },
    {
      "cell_type": "code",
      "source": [],
      "metadata": {
        "id": "zPez8e19h3FB"
      },
      "execution_count": null,
      "outputs": []
    },
    {
      "cell_type": "markdown",
      "source": [
        "### Probelm 4\n",
        "\n",
        "Create a class Book with properties title, author, and pages and a method info that returns a string with information about the book."
      ],
      "metadata": {
        "id": "HLM4zYQkSulm"
      }
    },
    {
      "cell_type": "code",
      "source": [],
      "metadata": {
        "id": "yYVVyC5lh2uY"
      },
      "execution_count": null,
      "outputs": []
    },
    {
      "cell_type": "markdown",
      "source": [
        "### Probelm 5\n",
        "\n",
        "Create a class Movie with properties title, director, and year and a method play that prints \"Playing the movie [title]...\"."
      ],
      "metadata": {
        "id": "-vF4UcSrS12M"
      }
    },
    {
      "cell_type": "code",
      "execution_count": null,
      "metadata": {
        "id": "3j7xhckmhoYN"
      },
      "outputs": [],
      "source": []
    }
  ]
}