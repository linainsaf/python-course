{
  "nbformat": 4,
  "nbformat_minor": 0,
  "metadata": {
    "colab": {
      "provenance": []
    },
    "kernelspec": {
      "name": "python3",
      "display_name": "Python 3"
    },
    "language_info": {
      "name": "python"
    }
  },
  "cells": [
    {
      "cell_type": "markdown",
      "source": [
        "### Exercice 1:\n",
        "Create a 1-dimensional NumPy array with 5 integers from 0 to 4."
      ],
      "metadata": {
        "id": "OXI9gLlFd4yM"
      }
    },
    {
      "cell_type": "code",
      "source": [],
      "metadata": {
        "id": "ztKcBzC3PqX4"
      },
      "execution_count": null,
      "outputs": []
    },
    {
      "cell_type": "markdown",
      "source": [
        " ### Exercice 2:\n",
        " Create a 2-dimensional NumPy array with shape (2, 3) containing only ones."
      ],
      "metadata": {
        "id": "uxF4VxyNdE1f"
      }
    },
    {
      "cell_type": "code",
      "source": [],
      "metadata": {
        "id": "KkKtfryyPqv2"
      },
      "execution_count": null,
      "outputs": []
    },
    {
      "cell_type": "markdown",
      "source": [
        "### Exercice 3:\n",
        "Create a 3-dimensional NumPy array with shape (2, 3, 4) containing only zeros."
      ],
      "metadata": {
        "id": "5lZ_Kas9dF_a"
      }
    },
    {
      "cell_type": "code",
      "source": [],
      "metadata": {
        "id": "McI0UnGlPrIL"
      },
      "execution_count": null,
      "outputs": []
    },
    {
      "cell_type": "markdown",
      "source": [
        "### Exercice 4:\n",
        "Create a 2-dimensional NumPy array with shape (3, 4) containing random integers between 0 and 9."
      ],
      "metadata": {
        "id": "0xD6apZpdL4u"
      }
    },
    {
      "cell_type": "code",
      "source": [],
      "metadata": {
        "id": "piZgXDK4Prda"
      },
      "execution_count": null,
      "outputs": []
    },
    {
      "cell_type": "markdown",
      "source": [
        "### Exercice 5:\n",
        "Create a 2-dimensional NumPy array with shape (3, 4) and find its dimensions and size."
      ],
      "metadata": {
        "id": "-Mln-90sdNpw"
      }
    },
    {
      "cell_type": "code",
      "source": [],
      "metadata": {
        "id": "zpE8Tj1mPr2o"
      },
      "execution_count": null,
      "outputs": []
    },
    {
      "cell_type": "markdown",
      "source": [
        "### Exercice 6:\n",
        "Create a 2-dimensional NumPy array with shape (3, 4) and calculate the sum of all its elements."
      ],
      "metadata": {
        "id": "JECID7F1dOUe"
      }
    },
    {
      "cell_type": "code",
      "source": [],
      "metadata": {
        "id": "j8fNeTqiPsiI"
      },
      "execution_count": null,
      "outputs": []
    },
    {
      "cell_type": "markdown",
      "source": [
        "### Exercice 7:\n",
        "Create a 2-dimensional NumPy array with shape (3, 4) and find the minimum and maximum value in each row."
      ],
      "metadata": {
        "id": "FUEt_rFpdZay"
      }
    },
    {
      "cell_type": "code",
      "source": [],
      "metadata": {
        "id": "bgsH9u_UPtCs"
      },
      "execution_count": null,
      "outputs": []
    },
    {
      "cell_type": "markdown",
      "source": [
        "### Exercice 8:\n",
        "Create a 2-dimensional NumPy array with shape (3, 4) and replace all the odd numbers with -1."
      ],
      "metadata": {
        "id": "LCHEvMbLdcWg"
      }
    },
    {
      "cell_type": "code",
      "source": [],
      "metadata": {
        "id": "cnh8SjuSPtjP"
      },
      "execution_count": null,
      "outputs": []
    },
    {
      "cell_type": "markdown",
      "source": [
        "### Exercice 9:\n",
        "Create a 2-dimensional NumPy array with shape (3, 4) and extract the elements in the second and third row and the second and third column."
      ],
      "metadata": {
        "id": "ZiFcLInIdfOK"
      }
    },
    {
      "cell_type": "code",
      "source": [],
      "metadata": {
        "id": "EuHqXu2gPuLG"
      },
      "execution_count": null,
      "outputs": []
    },
    {
      "cell_type": "markdown",
      "source": [
        "### Exercice 10:\n",
        "Create a 2-dimensional NumPy array with shape (3, 4) and multiply each element by 2."
      ],
      "metadata": {
        "id": "xmRnLq1bdhaN"
      }
    },
    {
      "cell_type": "code",
      "source": [],
      "metadata": {
        "id": "1KIICrnhPuqD"
      },
      "execution_count": null,
      "outputs": []
    }
  ]
}